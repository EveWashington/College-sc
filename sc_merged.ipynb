{
 "cells": [
  {
   "cell_type": "code",
   "execution_count": 273,
   "metadata": {},
   "outputs": [],
   "source": [
    "import pandas as pd\n",
    "pd.options.display.max_columns = 500\n",
    "import matplotlib.pyplot as plt"
   ]
  },
  {
   "cell_type": "code",
   "execution_count": 274,
   "metadata": {},
   "outputs": [],
   "source": [
    "#Ivy leauge degree popularity 1996-97\n",
    "sc1 = pd.read_csv(\"C:\\Users\\User\\Desktop\\College Scorecard\\CollegeScorecard_Raw_Data\\MERGED1996_97_PP.csv\")\n",
    "ivy_sc1 = sc1[sc1['INSTNM'].str.match('(Yale University)|(Columbia University)|(Barnard)|(Harvard University)|(Princeton University)|(University of Pennsylvania)|(Cornell University)|(Brown University)|(Dartmouth)')]"
   ]
  },
  {
   "cell_type": "code",
   "execution_count": 275,
   "metadata": {},
   "outputs": [],
   "source": [
    "#Ivy leauge degree popularity 1997-98\n",
    "sc2 = pd.read_csv(\"C:\\Users\\User\\Desktop\\College Scorecard\\CollegeScorecard_Raw_Data\\MERGED1997_98_PP.csv\")\n",
    "ivy_sc2 = sc2[sc2['INSTNM'].str.match('(Yale University)|(Columbia University)|(Barnard)|(Harvard University)|(Princeton University)|(University of Pennsylvania)|(Cornell University)|(Brown University)|(Dartmouth)')]"
   ]
  },
  {
   "cell_type": "code",
   "execution_count": 276,
   "metadata": {},
   "outputs": [],
   "source": [
    "#Ivy leauge degree popularity 1998-99\n",
    "sc3 = pd.read_csv(\"C:\\Users\\User\\Desktop\\College Scorecard\\CollegeScorecard_Raw_Data\\MERGED1998_99_PP.csv\")\n",
    "ivy_sc3 = sc3[sc3['INSTNM'].str.match('(Yale University)|(Columbia University)|(Barnard)|(Harvard University)|(Princeton University)|(University of Pennsylvania)|(Cornell University)|(Brown University)|(Dartmouth)')]"
   ]
  },
  {
   "cell_type": "code",
   "execution_count": 277,
   "metadata": {},
   "outputs": [],
   "source": [
    "#Ivy leauge degree popularity 1999-2000\n",
    "sc4 = pd.read_csv(\"C:\\Users\\User\\Desktop\\College Scorecard\\CollegeScorecard_Raw_Data\\MERGED1999_00_PP.csv\")\n",
    "ivy_sc4 = sc4[sc4['INSTNM'].str.match('(Yale University)|(Columbia University)|(Barnard)|(Harvard University)|(Princeton University)|(University of Pennsylvania)|(Cornell University)|(Brown University)|(Dartmouth)')]"
   ]
  },
  {
   "cell_type": "code",
   "execution_count": 278,
   "metadata": {},
   "outputs": [],
   "source": [
    "#Ivy leauge degree popularity 2000-01\n",
    "sc5 = pd.read_csv(\"C:\\Users\\User\\Desktop\\College Scorecard\\CollegeScorecard_Raw_Data\\MERGED2000_01_PP.csv\")\n",
    "ivy_sc5 = sc5[sc5['INSTNM'].str.match('(Yale University)|(Columbia University)|(Barnard)|(Harvard University)|(Princeton University)|(University of Pennsylvania)|(Cornell University)|(Brown University)|(Dartmouth)')]"
   ]
  },
  {
   "cell_type": "code",
   "execution_count": 279,
   "metadata": {},
   "outputs": [],
   "source": [
    "#Ivy leauge degree popularity 2001-02\n",
    "sc6 = pd.read_csv(\"C:\\Users\\User\\Desktop\\College Scorecard\\CollegeScorecard_Raw_Data\\MERGED2001_02_PP.csv\")\n",
    "ivy_sc6 = sc6[sc6['INSTNM'].str.match('(Yale University)|(Columbia University)|(Barnard)|(Harvard University)|(Princeton University)|(University of Pennsylvania)|(Cornell University)|(Brown University)|(Dartmouth)')]"
   ]
  },
  {
   "cell_type": "code",
   "execution_count": 280,
   "metadata": {},
   "outputs": [],
   "source": [
    "#Ivy leauge degree popularity 2002-03\n",
    "sc7 = pd.read_csv(\"C:\\Users\\User\\Desktop\\College Scorecard\\CollegeScorecard_Raw_Data\\MERGED2002_03_PP.csv\")\n",
    "ivy_sc7 = sc7[sc7['INSTNM'].str.match('(Yale University)|(Columbia University)|(Barnard)|(Harvard University)|(Princeton University)|(University of Pennsylvania)|(Cornell University)|(Brown University)|(Dartmouth)')]"
   ]
  },
  {
   "cell_type": "code",
   "execution_count": 281,
   "metadata": {},
   "outputs": [],
   "source": [
    "#Ivy leauge degree popularity 2003-04\n",
    "sc8 = pd.read_csv(\"C:\\Users\\User\\Desktop\\College Scorecard\\CollegeScorecard_Raw_Data\\MERGED2003_04_PP.csv\")\n",
    "ivy_sc8 = sc8[sc8['INSTNM'].str.match('(Yale University)|(Columbia University)|(Barnard)|(Harvard University)|(Princeton University)|(University of Pennsylvania)|(Cornell University)|(Brown University)|(Dartmouth)')]"
   ]
  },
  {
   "cell_type": "code",
   "execution_count": 282,
   "metadata": {},
   "outputs": [],
   "source": [
    "#Ivy leauge degree popularity 2004-05\n",
    "sc9 = pd.read_csv(\"C:\\Users\\User\\Desktop\\College Scorecard\\CollegeScorecard_Raw_Data\\MERGED2004_05_PP.csv\")\n",
    "ivy_sc9 = sc9[sc9['INSTNM'].str.match('(Yale University)|(Columbia University)|(Barnard)|(Harvard University)|(Princeton University)|(University of Pennsylvania)|(Cornell University)|(Brown University)|(Dartmouth)')]"
   ]
  },
  {
   "cell_type": "code",
   "execution_count": 283,
   "metadata": {},
   "outputs": [],
   "source": [
    "#Ivy leauge degree popularity 2005-06\n",
    "sc10 = pd.read_csv(\"C:\\Users\\User\\Desktop\\College Scorecard\\CollegeScorecard_Raw_Data\\MERGED2005_06_PP.csv\")\n",
    "ivy_sc10 = sc10[sc10['INSTNM'].str.match('(Yale University)|(Columbia University)|(Barnard)|(Harvard University)|(Princeton University)|(University of Pennsylvania)|(Cornell University)|(Brown University)|(Dartmouth)')]"
   ]
  },
  {
   "cell_type": "code",
   "execution_count": 284,
   "metadata": {},
   "outputs": [],
   "source": [
    "#Ivy leauge degree popularity 2006-07\n",
    "sc11 = pd.read_csv(\"C:\\Users\\User\\Desktop\\College Scorecard\\CollegeScorecard_Raw_Data\\MERGED2006_07_PP.csv\")\n",
    "ivy_sc11 = sc11[sc11['INSTNM'].str.match('(Yale University)|(Columbia University)|(Barnard)|(Harvard University)|(Princeton University)|(University of Pennsylvania)|(Cornell University)|(Brown University)|(Dartmouth)')]"
   ]
  },
  {
   "cell_type": "code",
   "execution_count": 285,
   "metadata": {},
   "outputs": [],
   "source": [
    "#Ivy leauge degree popularity 2007-08\n",
    "sc12 = pd.read_csv(\"C:\\Users\\User\\Desktop\\College Scorecard\\CollegeScorecard_Raw_Data\\MERGED2007_08_PP.csv\")\n",
    "ivy_sc12 = sc12[sc12['INSTNM'].str.match('(Yale University)|(Columbia University)|(Barnard)|(Harvard University)|(Princeton University)|(University of Pennsylvania)|(Cornell University)|(Brown University)|(Dartmouth)')]"
   ]
  },
  {
   "cell_type": "code",
   "execution_count": 286,
   "metadata": {},
   "outputs": [],
   "source": [
    "#Ivy leauge degree popularity 2008-09\n",
    "sc13 = pd.read_csv(\"C:\\Users\\User\\Desktop\\College Scorecard\\CollegeScorecard_Raw_Data\\MERGED2008_09_PP.csv\")\n",
    "ivy_sc13 = sc13[sc13['INSTNM'].str.match('(Yale University)|(Columbia University)|(Barnard)|(Harvard University)|(Princeton University)|(University of Pennsylvania)|(Cornell University)|(Brown University)|(Dartmouth)')]"
   ]
  },
  {
   "cell_type": "code",
   "execution_count": 287,
   "metadata": {},
   "outputs": [],
   "source": [
    "#Ivy leauge degree popularity 2009-10\n",
    "sc14 = pd.read_csv(\"C:\\Users\\User\\Desktop\\College Scorecard\\CollegeScorecard_Raw_Data\\MERGED2009_10_PP.csv\")\n",
    "ivy_sc14 = sc14[sc14['INSTNM'].str.match('(Yale University)|(Columbia University)|(Barnard)|(Harvard University)|(Princeton University)|(University of Pennsylvania)|(Cornell University)|(Brown University)|(Dartmouth)')]"
   ]
  },
  {
   "cell_type": "code",
   "execution_count": 288,
   "metadata": {},
   "outputs": [],
   "source": [
    "#Ivy leauge degree popularity 2010-11\n",
    "sc15 = pd.read_csv(\"C:\\Users\\User\\Desktop\\College Scorecard\\CollegeScorecard_Raw_Data\\MERGED2010_11_PP.csv\")\n",
    "ivy_sc15 = sc15[sc15['INSTNM'].str.match('(Yale University)|(Columbia University)|(Barnard)|(Harvard University)|(Princeton University)|(University of Pennsylvania)|(Cornell University)|(Brown University)|(Dartmouth)')]"
   ]
  },
  {
   "cell_type": "code",
   "execution_count": 289,
   "metadata": {},
   "outputs": [],
   "source": [
    "#Ivy leauge degree popularity 2011-12\n",
    "sc16 = pd.read_csv(\"C:\\Users\\User\\Desktop\\College Scorecard\\CollegeScorecard_Raw_Data\\MERGED2011_12_PP.csv\")\n",
    "ivy_sc16 = sc16[sc16['INSTNM'].str.match('(Yale University)|(Columbia University)|(Barnard)|(Harvard University)|(Princeton University)|(University of Pennsylvania)|(Cornell University)|(Brown University)|(Dartmouth)')]"
   ]
  },
  {
   "cell_type": "code",
   "execution_count": 290,
   "metadata": {},
   "outputs": [],
   "source": [
    "#Ivy leauge degree popularity 2012-13\n",
    "sc17 = pd.read_csv(\"C:\\Users\\User\\Desktop\\College Scorecard\\CollegeScorecard_Raw_Data\\MERGED2012_13_PP.csv\")\n",
    "ivy_sc17 = sc17[sc17['INSTNM'].str.match('(Yale University)|(Columbia University)|(Barnard)|(Harvard University)|(Princeton University)|(University of Pennsylvania)|(Cornell University)|(Brown University)|(Dartmouth)')]"
   ]
  },
  {
   "cell_type": "code",
   "execution_count": 291,
   "metadata": {},
   "outputs": [],
   "source": [
    "#Ivy leauge degree popularity 2013-14\n",
    "sc18 = pd.read_csv(\"C:\\Users\\User\\Desktop\\College Scorecard\\CollegeScorecard_Raw_Data\\MERGED2013_14_PP.csv\")\n",
    "ivy_sc18 = sc18[sc18['INSTNM'].str.match('(Yale University)|(Columbia University)|(Barnard)|(Harvard University)|(Princeton University)|(University of Pennsylvania)|(Cornell University)|(Brown University)|(Dartmouth)')]"
   ]
  },
  {
   "cell_type": "code",
   "execution_count": 292,
   "metadata": {},
   "outputs": [],
   "source": [
    "#Ivy leauge degree popularity 2014-15\n",
    "sc19 = pd.read_csv(\"C:\\Users\\User\\Desktop\\College Scorecard\\CollegeScorecard_Raw_Data\\MERGED2014_15_PP.csv\")\n",
    "ivy_sc19 = sc19[sc19['INSTNM'].str.match('(Yale University)|(Columbia University)|(Barnard)|(Harvard University)|(Princeton University)|(University of Pennsylvania)|(Cornell University)|(Brown University)|(Dartmouth)')]"
   ]
  },
  {
   "cell_type": "code",
   "execution_count": 293,
   "metadata": {},
   "outputs": [],
   "source": [
    "#Ivy leauge degree popularity 2015-16\n",
    "sc20 = pd.read_csv(\"C:\\Users\\User\\Desktop\\College Scorecard\\CollegeScorecard_Raw_Data\\MERGED2015_16_PP.csv\")\n",
    "ivy_sc20 = sc20[sc20['INSTNM'].str.match('(Yale University)|(Columbia University)|(Barnard)|(Harvard University)|(Princeton University)|(University of Pennsylvania)|(Cornell University)|(Brown University)|(Dartmouth)')]"
   ]
  },
  {
   "cell_type": "code",
   "execution_count": 294,
   "metadata": {
    "scrolled": true
   },
   "outputs": [],
   "source": [
    "#Ivy leauge degree popularity 2016-17\n",
    "sc21 = pd.read_csv(\"C:\\Users\\User\\Desktop\\College Scorecard\\CollegeScorecard_Raw_Data\\MERGED2016_17_PP.csv\")\n",
    "ivy_sc21 = sc21[sc21['INSTNM'].str.match('(Yale University)|(Columbia University)|(Barnard)|(Harvard University)|(Princeton University)|(University of Pennsylvania)|(Cornell University)|(Brown University)|(Dartmouth)')]"
   ]
  },
  {
   "cell_type": "code",
   "execution_count": 295,
   "metadata": {},
   "outputs": [],
   "source": [
    "#Ivy leauge degree popularity 2017-18\n",
    "sc22 = pd.read_csv(\"C:\\Users\\User\\Desktop\\College Scorecard\\CollegeScorecard_Raw_Data\\MERGED2017_18_PP.csv\")\n",
    "ivy_sc22 = sc22[sc22['INSTNM'].str.match('(Yale University)|(Columbia University)|(Barnard)|(Harvard University)|(Princeton University)|(University of Pennsylvania)|(Cornell University)|(Brown University)|(Dartmouth)')]"
   ]
  },
  {
   "cell_type": "code",
   "execution_count": 296,
   "metadata": {},
   "outputs": [],
   "source": [
    "PCIP_list = [col for col in sc1.columns if \"PCIP\" in col]\n",
    "PCIP_list.insert(0,'INSTNM')"
   ]
  },
  {
   "cell_type": "code",
   "execution_count": 334,
   "metadata": {},
   "outputs": [],
   "source": [
    "PCIP = ['INSTNM',\n",
    " 'PCIP14']"
   ]
  },
  {
   "cell_type": "code",
   "execution_count": 353,
   "metadata": {},
   "outputs": [],
   "source": [
    "PCIP = ['INSTNM',\n",
    " 'PCIP50']"
   ]
  },
  {
   "cell_type": "code",
   "execution_count": 354,
   "metadata": {},
   "outputs": [],
   "source": [
    " data_frames = [ivy_sc1[PCIP], ivy_sc2[PCIP], ivy_sc3[PCIP], ivy_sc4[PCIP], ivy_sc5[PCIP], ivy_sc6[PCIP], ivy_sc7[PCIP], ivy_sc8[PCIP], ivy_sc9[PCIP], ivy_sc10[PCIP], ivy_sc11[PCIP], \n",
    "               ivy_sc12[PCIP], ivy_sc13[PCIP], ivy_sc14[PCIP], ivy_sc15[PCIP], ivy_sc16[PCIP], ivy_sc17[PCIP], ivy_sc18[PCIP], ivy_sc19[PCIP], ivy_sc20[PCIP], ivy_sc21[PCIP], ivy_sc22[PCIP]]"
   ]
  },
  {
   "cell_type": "code",
   "execution_count": 355,
   "metadata": {},
   "outputs": [],
   "source": [
    "sc_merged = reduce(lambda  left,right: pd.merge(left,right,on=['INSTNM'], how='inner'), data_frames)"
   ]
  },
  {
   "cell_type": "code",
   "execution_count": 356,
   "metadata": {},
   "outputs": [
    {
     "data": {
      "text/html": [
       "<div>\n",
       "<style scoped>\n",
       "    .dataframe tbody tr th:only-of-type {\n",
       "        vertical-align: middle;\n",
       "    }\n",
       "\n",
       "    .dataframe tbody tr th {\n",
       "        vertical-align: top;\n",
       "    }\n",
       "\n",
       "    .dataframe thead th {\n",
       "        text-align: right;\n",
       "    }\n",
       "</style>\n",
       "<table border=\"1\" class=\"dataframe\">\n",
       "  <thead>\n",
       "    <tr style=\"text-align: right;\">\n",
       "      <th></th>\n",
       "      <th>INSTNM</th>\n",
       "      <th>PCIP50_x</th>\n",
       "      <th>PCIP50_y</th>\n",
       "      <th>PCIP50_x</th>\n",
       "      <th>PCIP50_y</th>\n",
       "      <th>PCIP50_x</th>\n",
       "      <th>PCIP50_y</th>\n",
       "      <th>PCIP50_x</th>\n",
       "      <th>PCIP50_y</th>\n",
       "      <th>PCIP50_x</th>\n",
       "      <th>PCIP50_y</th>\n",
       "      <th>PCIP50_x</th>\n",
       "      <th>PCIP50_y</th>\n",
       "      <th>PCIP50_x</th>\n",
       "      <th>PCIP50_y</th>\n",
       "      <th>PCIP50_x</th>\n",
       "      <th>PCIP50_y</th>\n",
       "      <th>PCIP50_x</th>\n",
       "      <th>PCIP50_y</th>\n",
       "      <th>PCIP50_x</th>\n",
       "      <th>PCIP50_y</th>\n",
       "      <th>PCIP50_x</th>\n",
       "      <th>PCIP50_y</th>\n",
       "    </tr>\n",
       "  </thead>\n",
       "  <tbody>\n",
       "    <tr>\n",
       "      <th>0</th>\n",
       "      <td>Yale University</td>\n",
       "      <td>0.0573</td>\n",
       "      <td>0.0678</td>\n",
       "      <td>0.0647</td>\n",
       "      <td>0.0707</td>\n",
       "      <td>0.0671</td>\n",
       "      <td>0.0682</td>\n",
       "      <td>0.0661</td>\n",
       "      <td>0.0826</td>\n",
       "      <td>0.0709</td>\n",
       "      <td>0.0736</td>\n",
       "      <td>0.0593</td>\n",
       "      <td>0.0613</td>\n",
       "      <td>0.0713</td>\n",
       "      <td>0.0527</td>\n",
       "      <td>0.0716</td>\n",
       "      <td>0.0578</td>\n",
       "      <td>0.0553</td>\n",
       "      <td>0.0612</td>\n",
       "      <td>0.0640</td>\n",
       "      <td>0.0520</td>\n",
       "      <td>0.0373</td>\n",
       "      <td>0.0405</td>\n",
       "    </tr>\n",
       "    <tr>\n",
       "      <th>1</th>\n",
       "      <td>Harvard University</td>\n",
       "      <td>0.0231</td>\n",
       "      <td>0.0314</td>\n",
       "      <td>0.0273</td>\n",
       "      <td>0.0268</td>\n",
       "      <td>0.0327</td>\n",
       "      <td>0.0261</td>\n",
       "      <td>0.0253</td>\n",
       "      <td>0.0274</td>\n",
       "      <td>0.0359</td>\n",
       "      <td>0.0372</td>\n",
       "      <td>0.0380</td>\n",
       "      <td>0.0337</td>\n",
       "      <td>0.0335</td>\n",
       "      <td>0.0323</td>\n",
       "      <td>0.0398</td>\n",
       "      <td>0.0322</td>\n",
       "      <td>0.0337</td>\n",
       "      <td>0.0265</td>\n",
       "      <td>0.0274</td>\n",
       "      <td>0.0266</td>\n",
       "      <td>0.0270</td>\n",
       "      <td>0.0276</td>\n",
       "    </tr>\n",
       "    <tr>\n",
       "      <th>2</th>\n",
       "      <td>Dartmouth College</td>\n",
       "      <td>0.0590</td>\n",
       "      <td>0.0499</td>\n",
       "      <td>0.0681</td>\n",
       "      <td>0.0610</td>\n",
       "      <td>0.0577</td>\n",
       "      <td>0.0559</td>\n",
       "      <td>0.0563</td>\n",
       "      <td>0.0578</td>\n",
       "      <td>0.0573</td>\n",
       "      <td>0.0703</td>\n",
       "      <td>0.0466</td>\n",
       "      <td>0.0451</td>\n",
       "      <td>0.0489</td>\n",
       "      <td>0.0531</td>\n",
       "      <td>0.0478</td>\n",
       "      <td>0.0483</td>\n",
       "      <td>0.0558</td>\n",
       "      <td>0.0435</td>\n",
       "      <td>0.0439</td>\n",
       "      <td>0.0457</td>\n",
       "      <td>0.0288</td>\n",
       "      <td>0.0365</td>\n",
       "    </tr>\n",
       "    <tr>\n",
       "      <th>3</th>\n",
       "      <td>Princeton University</td>\n",
       "      <td>0.0258</td>\n",
       "      <td>0.0264</td>\n",
       "      <td>0.0318</td>\n",
       "      <td>0.0211</td>\n",
       "      <td>0.0214</td>\n",
       "      <td>0.0313</td>\n",
       "      <td>0.0289</td>\n",
       "      <td>0.0316</td>\n",
       "      <td>0.0350</td>\n",
       "      <td>0.0297</td>\n",
       "      <td>0.0249</td>\n",
       "      <td>0.0446</td>\n",
       "      <td>0.0317</td>\n",
       "      <td>0.0290</td>\n",
       "      <td>0.0269</td>\n",
       "      <td>0.0312</td>\n",
       "      <td>0.0248</td>\n",
       "      <td>0.0197</td>\n",
       "      <td>0.0245</td>\n",
       "      <td>0.0195</td>\n",
       "      <td>0.0222</td>\n",
       "      <td>0.0234</td>\n",
       "    </tr>\n",
       "    <tr>\n",
       "      <th>4</th>\n",
       "      <td>Barnard College</td>\n",
       "      <td>0.0851</td>\n",
       "      <td>0.0860</td>\n",
       "      <td>0.0821</td>\n",
       "      <td>0.0531</td>\n",
       "      <td>0.0909</td>\n",
       "      <td>0.0858</td>\n",
       "      <td>0.0765</td>\n",
       "      <td>0.0955</td>\n",
       "      <td>0.0850</td>\n",
       "      <td>0.1162</td>\n",
       "      <td>0.1090</td>\n",
       "      <td>0.1139</td>\n",
       "      <td>0.1259</td>\n",
       "      <td>0.1311</td>\n",
       "      <td>0.0778</td>\n",
       "      <td>0.1113</td>\n",
       "      <td>0.1098</td>\n",
       "      <td>0.1075</td>\n",
       "      <td>0.1184</td>\n",
       "      <td>0.1055</td>\n",
       "      <td>0.1123</td>\n",
       "      <td>0.0858</td>\n",
       "    </tr>\n",
       "    <tr>\n",
       "      <th>5</th>\n",
       "      <td>Columbia University in the City of New York</td>\n",
       "      <td>0.0661</td>\n",
       "      <td>0.0470</td>\n",
       "      <td>0.0569</td>\n",
       "      <td>0.0541</td>\n",
       "      <td>0.0704</td>\n",
       "      <td>0.0640</td>\n",
       "      <td>0.0694</td>\n",
       "      <td>0.0683</td>\n",
       "      <td>0.0594</td>\n",
       "      <td>0.0616</td>\n",
       "      <td>0.0690</td>\n",
       "      <td>0.0484</td>\n",
       "      <td>0.0455</td>\n",
       "      <td>0.0483</td>\n",
       "      <td>0.0533</td>\n",
       "      <td>0.0458</td>\n",
       "      <td>0.0524</td>\n",
       "      <td>0.0533</td>\n",
       "      <td>0.0422</td>\n",
       "      <td>0.0454</td>\n",
       "      <td>0.0477</td>\n",
       "      <td>0.0471</td>\n",
       "    </tr>\n",
       "    <tr>\n",
       "      <th>6</th>\n",
       "      <td>Cornell University</td>\n",
       "      <td>0.0385</td>\n",
       "      <td>0.0280</td>\n",
       "      <td>0.0329</td>\n",
       "      <td>0.0304</td>\n",
       "      <td>0.0316</td>\n",
       "      <td>0.0350</td>\n",
       "      <td>0.0283</td>\n",
       "      <td>0.0309</td>\n",
       "      <td>0.0255</td>\n",
       "      <td>0.0295</td>\n",
       "      <td>0.0267</td>\n",
       "      <td>0.0237</td>\n",
       "      <td>0.0245</td>\n",
       "      <td>0.0258</td>\n",
       "      <td>0.0284</td>\n",
       "      <td>0.0251</td>\n",
       "      <td>0.0203</td>\n",
       "      <td>0.0246</td>\n",
       "      <td>0.0202</td>\n",
       "      <td>0.0169</td>\n",
       "      <td>0.0237</td>\n",
       "      <td>0.0151</td>\n",
       "    </tr>\n",
       "    <tr>\n",
       "      <th>7</th>\n",
       "      <td>University of Pennsylvania</td>\n",
       "      <td>0.0147</td>\n",
       "      <td>0.0173</td>\n",
       "      <td>0.0195</td>\n",
       "      <td>0.0175</td>\n",
       "      <td>0.0174</td>\n",
       "      <td>0.0176</td>\n",
       "      <td>0.0205</td>\n",
       "      <td>0.0187</td>\n",
       "      <td>0.0239</td>\n",
       "      <td>0.0228</td>\n",
       "      <td>0.0352</td>\n",
       "      <td>0.0223</td>\n",
       "      <td>0.0318</td>\n",
       "      <td>0.0272</td>\n",
       "      <td>0.0270</td>\n",
       "      <td>0.0277</td>\n",
       "      <td>0.0278</td>\n",
       "      <td>0.0249</td>\n",
       "      <td>0.0307</td>\n",
       "      <td>0.0239</td>\n",
       "      <td>0.0273</td>\n",
       "      <td>0.0271</td>\n",
       "    </tr>\n",
       "    <tr>\n",
       "      <th>8</th>\n",
       "      <td>Brown University</td>\n",
       "      <td>0.0657</td>\n",
       "      <td>0.0596</td>\n",
       "      <td>0.0686</td>\n",
       "      <td>0.0608</td>\n",
       "      <td>0.0667</td>\n",
       "      <td>0.0581</td>\n",
       "      <td>0.0717</td>\n",
       "      <td>0.0680</td>\n",
       "      <td>0.0711</td>\n",
       "      <td>0.0747</td>\n",
       "      <td>0.0742</td>\n",
       "      <td>0.0660</td>\n",
       "      <td>0.0584</td>\n",
       "      <td>0.0631</td>\n",
       "      <td>0.0472</td>\n",
       "      <td>0.0553</td>\n",
       "      <td>0.0518</td>\n",
       "      <td>0.0515</td>\n",
       "      <td>0.0458</td>\n",
       "      <td>0.0530</td>\n",
       "      <td>0.0346</td>\n",
       "      <td>0.0250</td>\n",
       "    </tr>\n",
       "  </tbody>\n",
       "</table>\n",
       "</div>"
      ],
      "text/plain": [
       "                                        INSTNM  PCIP50_x  PCIP50_y  PCIP50_x  \\\n",
       "0                              Yale University    0.0573    0.0678    0.0647   \n",
       "1                           Harvard University    0.0231    0.0314    0.0273   \n",
       "2                            Dartmouth College    0.0590    0.0499    0.0681   \n",
       "3                         Princeton University    0.0258    0.0264    0.0318   \n",
       "4                              Barnard College    0.0851    0.0860    0.0821   \n",
       "5  Columbia University in the City of New York    0.0661    0.0470    0.0569   \n",
       "6                           Cornell University    0.0385    0.0280    0.0329   \n",
       "7                   University of Pennsylvania    0.0147    0.0173    0.0195   \n",
       "8                             Brown University    0.0657    0.0596    0.0686   \n",
       "\n",
       "   PCIP50_y  PCIP50_x  PCIP50_y  PCIP50_x  PCIP50_y  PCIP50_x  PCIP50_y  \\\n",
       "0    0.0707    0.0671    0.0682    0.0661    0.0826    0.0709    0.0736   \n",
       "1    0.0268    0.0327    0.0261    0.0253    0.0274    0.0359    0.0372   \n",
       "2    0.0610    0.0577    0.0559    0.0563    0.0578    0.0573    0.0703   \n",
       "3    0.0211    0.0214    0.0313    0.0289    0.0316    0.0350    0.0297   \n",
       "4    0.0531    0.0909    0.0858    0.0765    0.0955    0.0850    0.1162   \n",
       "5    0.0541    0.0704    0.0640    0.0694    0.0683    0.0594    0.0616   \n",
       "6    0.0304    0.0316    0.0350    0.0283    0.0309    0.0255    0.0295   \n",
       "7    0.0175    0.0174    0.0176    0.0205    0.0187    0.0239    0.0228   \n",
       "8    0.0608    0.0667    0.0581    0.0717    0.0680    0.0711    0.0747   \n",
       "\n",
       "   PCIP50_x  PCIP50_y  PCIP50_x  PCIP50_y  PCIP50_x  PCIP50_y  PCIP50_x  \\\n",
       "0    0.0593    0.0613    0.0713    0.0527    0.0716    0.0578    0.0553   \n",
       "1    0.0380    0.0337    0.0335    0.0323    0.0398    0.0322    0.0337   \n",
       "2    0.0466    0.0451    0.0489    0.0531    0.0478    0.0483    0.0558   \n",
       "3    0.0249    0.0446    0.0317    0.0290    0.0269    0.0312    0.0248   \n",
       "4    0.1090    0.1139    0.1259    0.1311    0.0778    0.1113    0.1098   \n",
       "5    0.0690    0.0484    0.0455    0.0483    0.0533    0.0458    0.0524   \n",
       "6    0.0267    0.0237    0.0245    0.0258    0.0284    0.0251    0.0203   \n",
       "7    0.0352    0.0223    0.0318    0.0272    0.0270    0.0277    0.0278   \n",
       "8    0.0742    0.0660    0.0584    0.0631    0.0472    0.0553    0.0518   \n",
       "\n",
       "   PCIP50_y  PCIP50_x  PCIP50_y  PCIP50_x  PCIP50_y  \n",
       "0    0.0612    0.0640    0.0520    0.0373    0.0405  \n",
       "1    0.0265    0.0274    0.0266    0.0270    0.0276  \n",
       "2    0.0435    0.0439    0.0457    0.0288    0.0365  \n",
       "3    0.0197    0.0245    0.0195    0.0222    0.0234  \n",
       "4    0.1075    0.1184    0.1055    0.1123    0.0858  \n",
       "5    0.0533    0.0422    0.0454    0.0477    0.0471  \n",
       "6    0.0246    0.0202    0.0169    0.0237    0.0151  \n",
       "7    0.0249    0.0307    0.0239    0.0273    0.0271  \n",
       "8    0.0515    0.0458    0.0530    0.0346    0.0250  "
      ]
     },
     "execution_count": 356,
     "metadata": {},
     "output_type": "execute_result"
    }
   ],
   "source": [
    "sc_merged"
   ]
  },
  {
   "cell_type": "code",
   "execution_count": 357,
   "metadata": {},
   "outputs": [
    {
     "data": {
      "text/html": [
       "<div>\n",
       "<style scoped>\n",
       "    .dataframe tbody tr th:only-of-type {\n",
       "        vertical-align: middle;\n",
       "    }\n",
       "\n",
       "    .dataframe tbody tr th {\n",
       "        vertical-align: top;\n",
       "    }\n",
       "\n",
       "    .dataframe thead th {\n",
       "        text-align: right;\n",
       "    }\n",
       "</style>\n",
       "<table border=\"1\" class=\"dataframe\">\n",
       "  <thead>\n",
       "    <tr style=\"text-align: right;\">\n",
       "      <th>INSTNM</th>\n",
       "      <th>Yale University</th>\n",
       "      <th>Harvard University</th>\n",
       "      <th>Dartmouth College</th>\n",
       "      <th>Princeton University</th>\n",
       "      <th>Barnard College</th>\n",
       "      <th>Columbia University in the City of New York</th>\n",
       "      <th>Cornell University</th>\n",
       "      <th>University of Pennsylvania</th>\n",
       "      <th>Brown University</th>\n",
       "    </tr>\n",
       "    <tr>\n",
       "      <th>year</th>\n",
       "      <th></th>\n",
       "      <th></th>\n",
       "      <th></th>\n",
       "      <th></th>\n",
       "      <th></th>\n",
       "      <th></th>\n",
       "      <th></th>\n",
       "      <th></th>\n",
       "      <th></th>\n",
       "    </tr>\n",
       "  </thead>\n",
       "  <tbody>\n",
       "    <tr>\n",
       "      <th>1997</th>\n",
       "      <td>0.0573</td>\n",
       "      <td>0.0231</td>\n",
       "      <td>0.059</td>\n",
       "      <td>0.0258</td>\n",
       "      <td>0.0851</td>\n",
       "      <td>0.0661</td>\n",
       "      <td>0.0385</td>\n",
       "      <td>0.0147</td>\n",
       "      <td>0.0657</td>\n",
       "    </tr>\n",
       "    <tr>\n",
       "      <th>1998</th>\n",
       "      <td>0.0678</td>\n",
       "      <td>0.0314</td>\n",
       "      <td>0.0499</td>\n",
       "      <td>0.0264</td>\n",
       "      <td>0.086</td>\n",
       "      <td>0.047</td>\n",
       "      <td>0.028</td>\n",
       "      <td>0.0173</td>\n",
       "      <td>0.0596</td>\n",
       "    </tr>\n",
       "    <tr>\n",
       "      <th>1999</th>\n",
       "      <td>0.0647</td>\n",
       "      <td>0.0273</td>\n",
       "      <td>0.0681</td>\n",
       "      <td>0.0318</td>\n",
       "      <td>0.0821</td>\n",
       "      <td>0.0569</td>\n",
       "      <td>0.0329</td>\n",
       "      <td>0.0195</td>\n",
       "      <td>0.0686</td>\n",
       "    </tr>\n",
       "    <tr>\n",
       "      <th>2000</th>\n",
       "      <td>0.0707</td>\n",
       "      <td>0.0268</td>\n",
       "      <td>0.061</td>\n",
       "      <td>0.0211</td>\n",
       "      <td>0.0531</td>\n",
       "      <td>0.0541</td>\n",
       "      <td>0.0304</td>\n",
       "      <td>0.0175</td>\n",
       "      <td>0.0608</td>\n",
       "    </tr>\n",
       "    <tr>\n",
       "      <th>2001</th>\n",
       "      <td>0.0671</td>\n",
       "      <td>0.0327</td>\n",
       "      <td>0.0577</td>\n",
       "      <td>0.0214</td>\n",
       "      <td>0.0909</td>\n",
       "      <td>0.0704</td>\n",
       "      <td>0.0316</td>\n",
       "      <td>0.0174</td>\n",
       "      <td>0.0667</td>\n",
       "    </tr>\n",
       "  </tbody>\n",
       "</table>\n",
       "</div>"
      ],
      "text/plain": [
       "INSTNM Yale University Harvard University Dartmouth College  \\\n",
       "year                                                          \n",
       "1997            0.0573             0.0231             0.059   \n",
       "1998            0.0678             0.0314            0.0499   \n",
       "1999            0.0647             0.0273            0.0681   \n",
       "2000            0.0707             0.0268             0.061   \n",
       "2001            0.0671             0.0327            0.0577   \n",
       "\n",
       "INSTNM Princeton University Barnard College  \\\n",
       "year                                          \n",
       "1997                 0.0258          0.0851   \n",
       "1998                 0.0264           0.086   \n",
       "1999                 0.0318          0.0821   \n",
       "2000                 0.0211          0.0531   \n",
       "2001                 0.0214          0.0909   \n",
       "\n",
       "INSTNM Columbia University in the City of New York Cornell University  \\\n",
       "year                                                                    \n",
       "1997                                        0.0661             0.0385   \n",
       "1998                                         0.047              0.028   \n",
       "1999                                        0.0569             0.0329   \n",
       "2000                                        0.0541             0.0304   \n",
       "2001                                        0.0704             0.0316   \n",
       "\n",
       "INSTNM University of Pennsylvania Brown University  \n",
       "year                                                \n",
       "1997                       0.0147           0.0657  \n",
       "1998                       0.0173           0.0596  \n",
       "1999                       0.0195           0.0686  \n",
       "2000                       0.0175           0.0608  \n",
       "2001                       0.0174           0.0667  "
      ]
     },
     "execution_count": 357,
     "metadata": {},
     "output_type": "execute_result"
    }
   ],
   "source": [
    "sc_merged_T = sc_merged.T\n",
    "\n",
    "sc_merged_T.columns = sc_merged_T.iloc[0]\n",
    "\n",
    "#marks the latter of the two years (Spring Graduation)\n",
    "Year = ['year','1997', '1998', '1999', '2000', '2001', '2002', '2003', '2004', '2005', '2006', '2007', '2008', \n",
    "        '2009', '2010', '2011', '2012', '2013', '2014', '2015', '2016', '2017', '2018']\n",
    "sc_merged_T['year'] = Year\n",
    "sc_merged_T = sc_merged_T.drop('INSTNM', axis=0)\n",
    "\n",
    "sc_merged_T = sc_merged_T.set_index('year')\n",
    "sc_merged_T.head()"
   ]
  },
  {
   "cell_type": "code",
   "execution_count": 358,
   "metadata": {},
   "outputs": [],
   "source": [
    "sc_merged_T = sc_merged_T.infer_objects()"
   ]
  },
  {
   "cell_type": "code",
   "execution_count": 359,
   "metadata": {},
   "outputs": [
    {
     "name": "stdout",
     "output_type": "stream",
     "text": [
      "<class 'pandas.core.frame.DataFrame'>\n",
      "Index: 22 entries, 1997 to 2018\n",
      "Data columns (total 9 columns):\n",
      "Yale University                                22 non-null float64\n",
      "Harvard University                             22 non-null float64\n",
      "Dartmouth College                              22 non-null float64\n",
      "Princeton University                           22 non-null float64\n",
      "Barnard College                                22 non-null float64\n",
      "Columbia University in the City of New York    22 non-null float64\n",
      "Cornell University                             22 non-null float64\n",
      "University of Pennsylvania                     22 non-null float64\n",
      "Brown University                               22 non-null float64\n",
      "dtypes: float64(9)\n",
      "memory usage: 1.7+ KB\n"
     ]
    }
   ],
   "source": [
    "sc_merged_T.info()"
   ]
  },
  {
   "cell_type": "code",
   "execution_count": 360,
   "metadata": {
    "scrolled": true
   },
   "outputs": [
    {
     "data": {
      "image/png": "[encoded data removed]",
      "text/plain": [
       "<Figure size 432x288 with 1 Axes>"
      ]
     },
     "metadata": {
      "needs_background": "light"
     },
     "output_type": "display_data"
    }
   ],
   "source": [
    "ax = sc_merged_T.plot.line()\n",
    "leg = plt.legend( loc = 'upper right')\n",
    "\n",
    "# Get the bounding box of the original legend\n",
    "bb = leg.get_bbox_to_anchor().inverse_transformed(ax.transAxes)\n",
    "\n",
    "# Change to location of the legend. \n",
    "xOffset = .8\n",
    "bb.x0 += xOffset\n",
    "bb.x1 += xOffset\n",
    "leg.set_bbox_to_anchor(bb, transform = ax.transAxes)"
   ]
  },
  {
   "cell_type": "code",
   "execution_count": null,
   "metadata": {},
   "outputs": [],
   "source": []
  }
 ],
 "metadata": {
  "kernelspec": {
   "display_name": "Python 2",
   "language": "python",
   "name": "python2"
  },
  "language_info": {
   "codemirror_mode": {
    "name": "ipython",
    "version": 2
   },
   "file_extension": ".py",
   "mimetype": "text/x-python",
   "name": "python",
   "nbconvert_exporter": "python",
   "pygments_lexer": "ipython2",
   "version": "2.7.16"
  }
 },
 "nbformat": 4,
 "nbformat_minor": 2
}
