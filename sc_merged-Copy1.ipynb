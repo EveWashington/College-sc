{
 "cells": [
  {
   "cell_type": "code",
   "execution_count": 2,
   "metadata": {},
   "outputs": [],
   "source": [
    "import pandas as pd\n",
    "pd.options.display.max_columns = 500\n",
    "import matplotlib.pyplot as plt"
   ]
  },
  {
   "cell_type": "code",
   "execution_count": 3,
   "metadata": {},
   "outputs": [],
   "source": [
    "#Ivy leauge degree popularity 1996-97\n",
    "sc1 = pd.read_csv(\"C:\\Users\\User\\Desktop\\College Scorecard\\CollegeScorecard_Raw_Data\\MERGED1996_97_PP.csv\")\n",
    "ivy_sc1 = sc1[sc1['INSTNM'].str.match('(Yale University)|(Columbia University)|(Harvard University)|(Princeton University)|(University of Pennsylvania)|(Cornell University)|(Brown University)|(Dartmouth)')]"
   ]
  },
  {
   "cell_type": "code",
   "execution_count": 4,
   "metadata": {},
   "outputs": [
    {
     "name": "stderr",
     "output_type": "stream",
     "text": [
      "C:\\Users\\User\\Anaconda3\\envs\\Messing_With_Columbia_Data\\lib\\site-packages\\IPython\\core\\interactiveshell.py:2714: DtypeWarning: Columns (1) have mixed types. Specify dtype option on import or set low_memory=False.\n",
      "  interactivity=interactivity, compiler=compiler, result=result)\n"
     ]
    }
   ],
   "source": [
    "#Ivy leauge degree popularity 1997-98\n",
    "sc2 = pd.read_csv(\"C:\\Users\\User\\Desktop\\College Scorecard\\CollegeScorecard_Raw_Data\\MERGED1997_98_PP.csv\")\n",
    "ivy_sc2 = sc2[sc2['INSTNM'].str.match('(Yale University)|(Columbia University)|(Harvard University)|(Princeton University)|(University of Pennsylvania)|(Cornell University)|(Brown University)|(Dartmouth)')]"
   ]
  },
  {
   "cell_type": "code",
   "execution_count": 5,
   "metadata": {},
   "outputs": [],
   "source": [
    "#Ivy leauge degree popularity 1998-99\n",
    "sc3 = pd.read_csv(\"C:\\Users\\User\\Desktop\\College Scorecard\\CollegeScorecard_Raw_Data\\MERGED1998_99_PP.csv\")\n",
    "ivy_sc3 = sc3[sc3['INSTNM'].str.match('(Yale University)|(Columbia University)|(Harvard University)|(Princeton University)|(University of Pennsylvania)|(Cornell University)|(Brown University)|(Dartmouth)')]"
   ]
  },
  {
   "cell_type": "code",
   "execution_count": 6,
   "metadata": {},
   "outputs": [],
   "source": [
    "#Ivy leauge degree popularity 1999-2000\n",
    "sc4 = pd.read_csv(\"C:\\Users\\User\\Desktop\\College Scorecard\\CollegeScorecard_Raw_Data\\MERGED1999_00_PP.csv\")\n",
    "ivy_sc4 = sc4[sc4['INSTNM'].str.match('(Yale University)|(Columbia University)|(Harvard University)|(Princeton University)|(University of Pennsylvania)|(Cornell University)|(Brown University)|(Dartmouth)')]"
   ]
  },
  {
   "cell_type": "code",
   "execution_count": 7,
   "metadata": {},
   "outputs": [],
   "source": [
    "#Ivy leauge degree popularity 2000-01\n",
    "sc5 = pd.read_csv(\"C:\\Users\\User\\Desktop\\College Scorecard\\CollegeScorecard_Raw_Data\\MERGED2000_01_PP.csv\")\n",
    "ivy_sc5 = sc5[sc5['INSTNM'].str.match('(Yale University)|(Columbia University)|(Harvard University)|(Princeton University)|(University of Pennsylvania)|(Cornell University)|(Brown University)|(Dartmouth)')]"
   ]
  },
  {
   "cell_type": "code",
   "execution_count": 8,
   "metadata": {},
   "outputs": [],
   "source": [
    "#Ivy leauge degree popularity 2001-02\n",
    "sc6 = pd.read_csv(\"C:\\Users\\User\\Desktop\\College Scorecard\\CollegeScorecard_Raw_Data\\MERGED2001_02_PP.csv\")\n",
    "ivy_sc6 = sc6[sc6['INSTNM'].str.match('(Yale University)|(Columbia University)|(Harvard University)|(Princeton University)|(University of Pennsylvania)|(Cornell University)|(Brown University)|(Dartmouth)')]"
   ]
  },
  {
   "cell_type": "code",
   "execution_count": 9,
   "metadata": {},
   "outputs": [],
   "source": [
    "#Ivy leauge degree popularity 2002-03\n",
    "sc7 = pd.read_csv(\"C:\\Users\\User\\Desktop\\College Scorecard\\CollegeScorecard_Raw_Data\\MERGED2002_03_PP.csv\")\n",
    "ivy_sc7 = sc7[sc7['INSTNM'].str.match('(Yale University)|(Columbia University)|(Harvard University)|(Princeton University)|(University of Pennsylvania)|(Cornell University)|(Brown University)|(Dartmouth)')]"
   ]
  },
  {
   "cell_type": "code",
   "execution_count": 10,
   "metadata": {},
   "outputs": [],
   "source": [
    "#Ivy leauge degree popularity 2003-04\n",
    "sc8 = pd.read_csv(\"C:\\Users\\User\\Desktop\\College Scorecard\\CollegeScorecard_Raw_Data\\MERGED2003_04_PP.csv\")\n",
    "ivy_sc8 = sc8[sc8['INSTNM'].str.match('(Yale University)|(Columbia University)|(Harvard University)|(Princeton University)|(University of Pennsylvania)|(Cornell University)|(Brown University)|(Dartmouth)')]"
   ]
  },
  {
   "cell_type": "code",
   "execution_count": 11,
   "metadata": {},
   "outputs": [
    {
     "name": "stderr",
     "output_type": "stream",
     "text": [
      "C:\\Users\\User\\Anaconda3\\envs\\Messing_With_Columbia_Data\\lib\\site-packages\\IPython\\core\\interactiveshell.py:2714: DtypeWarning: Columns (1,6,442,451,598,607,611,620,624,633,789,802,806,815,971,984,997,1153,1166,1407,1408,1411,1424,1425,1426,1431,1432,1433,1437,1438,1439,1440,1445,1446,1447,1451,1452,1453,1454,1459,1460,1461,1465,1466,1467,1468,1473,1474,1475,1479,1480,1481,1482,1487,1488,1489,1501,1502,1537,1538,1539,1540,1541,1542,1606,1609,1610,1611,1613,1614,1615,1616,1688,1689,1690,1691,1692,1908,1909,1910,1911,1912,1913) have mixed types. Specify dtype option on import or set low_memory=False.\n",
      "  interactivity=interactivity, compiler=compiler, result=result)\n"
     ]
    }
   ],
   "source": [
    "#Ivy leauge degree popularity 2004-05\n",
    "sc9 = pd.read_csv(\"C:\\Users\\User\\Desktop\\College Scorecard\\CollegeScorecard_Raw_Data\\MERGED2004_05_PP.csv\")\n",
    "ivy_sc9 = sc9[sc9['INSTNM'].str.match('(Yale University)|(Columbia University)|(Harvard University)|(Princeton University)|(University of Pennsylvania)|(Cornell University)|(Brown University)|(Dartmouth)')]"
   ]
  },
  {
   "cell_type": "code",
   "execution_count": 12,
   "metadata": {},
   "outputs": [
    {
     "name": "stderr",
     "output_type": "stream",
     "text": [
      "C:\\Users\\User\\Anaconda3\\envs\\Messing_With_Columbia_Data\\lib\\site-packages\\IPython\\core\\interactiveshell.py:2714: DtypeWarning: Columns (1,1909,1910,1911,1912,1913) have mixed types. Specify dtype option on import or set low_memory=False.\n",
      "  interactivity=interactivity, compiler=compiler, result=result)\n"
     ]
    }
   ],
   "source": [
    "#Ivy leauge degree popularity 2005-06\n",
    "sc10 = pd.read_csv(\"C:\\Users\\User\\Desktop\\College Scorecard\\CollegeScorecard_Raw_Data\\MERGED2005_06_PP.csv\")\n",
    "ivy_sc10 = sc10[sc10['INSTNM'].str.match('(Yale University)|(Columbia University)|(Harvard University)|(Princeton University)|(University of Pennsylvania)|(Cornell University)|(Brown University)|(Dartmouth)')]"
   ]
  },
  {
   "cell_type": "code",
   "execution_count": 13,
   "metadata": {},
   "outputs": [
    {
     "name": "stderr",
     "output_type": "stream",
     "text": [
      "C:\\Users\\User\\Anaconda3\\envs\\Messing_With_Columbia_Data\\lib\\site-packages\\IPython\\core\\interactiveshell.py:2714: DtypeWarning: Columns (1,1408,1431,1432,1433,1489,1537,1538,1539,1540,1542,1606,1610,1611,1614,1615,1616,1729) have mixed types. Specify dtype option on import or set low_memory=False.\n",
      "  interactivity=interactivity, compiler=compiler, result=result)\n"
     ]
    }
   ],
   "source": [
    "#Ivy leauge degree popularity 2006-07\n",
    "sc11 = pd.read_csv(\"C:\\Users\\User\\Desktop\\College Scorecard\\CollegeScorecard_Raw_Data\\MERGED2006_07_PP.csv\")\n",
    "ivy_sc11 = sc11[sc11['INSTNM'].str.match('(Yale University)|(Columbia University)|(Harvard University)|(Princeton University)|(University of Pennsylvania)|(Cornell University)|(Brown University)|(Dartmouth)')]"
   ]
  },
  {
   "cell_type": "code",
   "execution_count": 14,
   "metadata": {},
   "outputs": [
    {
     "name": "stderr",
     "output_type": "stream",
     "text": [
      "C:\\Users\\User\\Anaconda3\\envs\\Messing_With_Columbia_Data\\lib\\site-packages\\IPython\\core\\interactiveshell.py:2714: DtypeWarning: Columns (1,1447,1537,1540,1542,1606,1614,1615) have mixed types. Specify dtype option on import or set low_memory=False.\n",
      "  interactivity=interactivity, compiler=compiler, result=result)\n"
     ]
    }
   ],
   "source": [
    "#Ivy leauge degree popularity 2007-08\n",
    "sc12 = pd.read_csv(\"C:\\Users\\User\\Desktop\\College Scorecard\\CollegeScorecard_Raw_Data\\MERGED2007_08_PP.csv\")\n",
    "ivy_sc12 = sc12[sc12['INSTNM'].str.match('(Yale University)|(Columbia University)|(Harvard University)|(Princeton University)|(University of Pennsylvania)|(Cornell University)|(Brown University)|(Dartmouth)')]"
   ]
  },
  {
   "cell_type": "code",
   "execution_count": 15,
   "metadata": {},
   "outputs": [
    {
     "name": "stderr",
     "output_type": "stream",
     "text": [
      "C:\\Users\\User\\Anaconda3\\envs\\Messing_With_Columbia_Data\\lib\\site-packages\\IPython\\core\\interactiveshell.py:2714: DtypeWarning: Columns (1,1537,1540,1542,1606,1614,1615) have mixed types. Specify dtype option on import or set low_memory=False.\n",
      "  interactivity=interactivity, compiler=compiler, result=result)\n"
     ]
    }
   ],
   "source": [
    "#Ivy leauge degree popularity 2008-09\n",
    "sc13 = pd.read_csv(\"C:\\Users\\User\\Desktop\\College Scorecard\\CollegeScorecard_Raw_Data\\MERGED2008_09_PP.csv\")\n",
    "ivy_sc13 = sc13[sc13['INSTNM'].str.match('(Yale University)|(Columbia University)|(Harvard University)|(Princeton University)|(University of Pennsylvania)|(Cornell University)|(Brown University)|(Dartmouth)')]"
   ]
  },
  {
   "cell_type": "code",
   "execution_count": 16,
   "metadata": {},
   "outputs": [],
   "source": [
    "#Ivy leauge degree popularity 2009-10\n",
    "sc14 = pd.read_csv(\"C:\\Users\\User\\Desktop\\College Scorecard\\CollegeScorecard_Raw_Data\\MERGED2009_10_PP.csv\")\n",
    "ivy_sc14 = sc14[sc14['INSTNM'].str.match('(Yale University)|(Columbia University)|(Harvard University)|(Princeton University)|(University of Pennsylvania)|(Cornell University)|(Brown University)|(Dartmouth)')]"
   ]
  },
  {
   "cell_type": "code",
   "execution_count": 17,
   "metadata": {},
   "outputs": [
    {
     "name": "stderr",
     "output_type": "stream",
     "text": [
      "C:\\Users\\User\\Anaconda3\\envs\\Messing_With_Columbia_Data\\lib\\site-packages\\IPython\\core\\interactiveshell.py:2714: DtypeWarning: Columns (1,6,1461,1561,1729,1909,1910,1911,1912,1913) have mixed types. Specify dtype option on import or set low_memory=False.\n",
      "  interactivity=interactivity, compiler=compiler, result=result)\n"
     ]
    }
   ],
   "source": [
    "#Ivy leauge degree popularity 2010-11\n",
    "sc15 = pd.read_csv(\"C:\\Users\\User\\Desktop\\College Scorecard\\CollegeScorecard_Raw_Data\\MERGED2010_11_PP.csv\")\n",
    "ivy_sc15 = sc15[sc15['INSTNM'].str.match('(Yale University)|(Columbia University)|(Harvard University)|(Princeton University)|(University of Pennsylvania)|(Cornell University)|(Brown University)|(Dartmouth)')]"
   ]
  },
  {
   "cell_type": "code",
   "execution_count": 18,
   "metadata": {},
   "outputs": [],
   "source": [
    "#Ivy leauge degree popularity 2011-12\n",
    "sc16 = pd.read_csv(\"C:\\Users\\User\\Desktop\\College Scorecard\\CollegeScorecard_Raw_Data\\MERGED2011_12_PP.csv\")\n",
    "ivy_sc16 = sc16[sc16['INSTNM'].str.match('(Yale University)|(Columbia University)|(Harvard University)|(Princeton University)|(University of Pennsylvania)|(Cornell University)|(Brown University)|(Dartmouth)')]"
   ]
  },
  {
   "cell_type": "code",
   "execution_count": 19,
   "metadata": {},
   "outputs": [
    {
     "name": "stderr",
     "output_type": "stream",
     "text": [
      "C:\\Users\\User\\Anaconda3\\envs\\Messing_With_Columbia_Data\\lib\\site-packages\\IPython\\core\\interactiveshell.py:2714: DtypeWarning: Columns (1537,1540,1542,1575,1606,1614,1615,1729,1909,1910,1911,1912,1913) have mixed types. Specify dtype option on import or set low_memory=False.\n",
      "  interactivity=interactivity, compiler=compiler, result=result)\n"
     ]
    }
   ],
   "source": [
    "#Ivy leauge degree popularity 2012-13\n",
    "sc17 = pd.read_csv(\"C:\\Users\\User\\Desktop\\College Scorecard\\CollegeScorecard_Raw_Data\\MERGED2012_13_PP.csv\")\n",
    "ivy_sc17 = sc17[sc17['INSTNM'].str.match('(Yale University)|(Columbia University)|(Harvard University)|(Princeton University)|(University of Pennsylvania)|(Cornell University)|(Brown University)|(Dartmouth)')]"
   ]
  },
  {
   "cell_type": "code",
   "execution_count": 20,
   "metadata": {},
   "outputs": [
    {
     "name": "stderr",
     "output_type": "stream",
     "text": [
      "C:\\Users\\User\\Anaconda3\\envs\\Messing_With_Columbia_Data\\lib\\site-packages\\IPython\\core\\interactiveshell.py:2714: DtypeWarning: Columns (1537,1540,1542,1547,1548,1549,1561,1575,1606,1614,1615,1729,1909,1910,1911,1912,1913) have mixed types. Specify dtype option on import or set low_memory=False.\n",
      "  interactivity=interactivity, compiler=compiler, result=result)\n"
     ]
    }
   ],
   "source": [
    "#Ivy leauge degree popularity 2013-14\n",
    "sc18 = pd.read_csv(\"C:\\Users\\User\\Desktop\\College Scorecard\\CollegeScorecard_Raw_Data\\MERGED2013_14_PP.csv\")\n",
    "ivy_sc18 = sc18[sc18['INSTNM'].str.match('(Yale University)|(Columbia University)|(Harvard University)|(Princeton University)|(University of Pennsylvania)|(Cornell University)|(Brown University)|(Dartmouth)')]"
   ]
  },
  {
   "cell_type": "code",
   "execution_count": 21,
   "metadata": {},
   "outputs": [
    {
     "name": "stderr",
     "output_type": "stream",
     "text": [
      "C:\\Users\\User\\Anaconda3\\envs\\Messing_With_Columbia_Data\\lib\\site-packages\\IPython\\core\\interactiveshell.py:2714: DtypeWarning: Columns (6,1169,1170,1171,1172,1173,1174,1175,1177,1178,1179,1180,1183,1184,1185,1186,1187,1188,1196,1199,1200,1209,1212,1213,1222,1223,1224,1225,1226,1227,1235,1236,1237,1238,1239,1240,1248,1251,1252,1253,1255,1257,1261,1264,1265,1266,1268,1270,1274,1275,1276,1277,1278,1279,1281,1287,1288,1289,1290,1291,1292,1294,1303,1304,1316,1317,1326,1327,1328,1329,1330,1331,1335,1339,1340,1341,1342,1343,1344,1348,1379,1380,1381,1382,1383,1384,1385,1386,1387,1388,1389,1390,1391,1392,1393,1394,1395,1396,1397,1398,1399,1400,1401,1402,1403,1404,1405,1406,1407,1411,1426,1427,1475,1476,1479,1480,1483,1484,1487,1488,1489,1490,1491,1492,1493,1494,1495,1496,1497,1498,1499,1500,1501,1502,1503,1517,1529,1530,1532,1537,1540,1541,1542,1575,1576,1577,1578,1579,1580,1581,1582,1583,1584,1585,1586,1587,1588,1589,1590,1591,1592,1593,1594,1595,1596,1597,1598,1599,1600,1601,1602,1606,1609,1610,1613,1614,1615,1708,1729,1909,1910,1911,1912,1913) have mixed types. Specify dtype option on import or set low_memory=False.\n",
      "  interactivity=interactivity, compiler=compiler, result=result)\n"
     ]
    }
   ],
   "source": [
    "#Ivy leauge degree popularity 2014-15\n",
    "sc19 = pd.read_csv(\"C:\\Users\\User\\Desktop\\College Scorecard\\CollegeScorecard_Raw_Data\\MERGED2014_15_PP.csv\")\n",
    "ivy_sc19 = sc19[sc19['INSTNM'].str.match('(Yale University)|(Columbia University)|(Harvard University)|(Princeton University)|(University of Pennsylvania)|(Cornell University)|(Brown University)|(Dartmouth)')]"
   ]
  },
  {
   "cell_type": "code",
   "execution_count": 22,
   "metadata": {},
   "outputs": [
    {
     "name": "stderr",
     "output_type": "stream",
     "text": [
      "C:\\Users\\User\\Anaconda3\\envs\\Messing_With_Columbia_Data\\lib\\site-packages\\IPython\\core\\interactiveshell.py:2714: DtypeWarning: Columns (6,1729,1909,1910,1911,1912,1913) have mixed types. Specify dtype option on import or set low_memory=False.\n",
      "  interactivity=interactivity, compiler=compiler, result=result)\n"
     ]
    }
   ],
   "source": [
    "#Ivy leauge degree popularity 2015-16\n",
    "sc20 = pd.read_csv(\"C:\\Users\\User\\Desktop\\College Scorecard\\CollegeScorecard_Raw_Data\\MERGED2015_16_PP.csv\")\n",
    "ivy_sc20 = sc20[sc20['INSTNM'].str.match('(Yale University)|(Columbia University)|(Harvard University)|(Princeton University)|(University of Pennsylvania)|(Cornell University)|(Brown University)|(Dartmouth)')]"
   ]
  },
  {
   "cell_type": "code",
   "execution_count": 23,
   "metadata": {
    "scrolled": true
   },
   "outputs": [
    {
     "name": "stderr",
     "output_type": "stream",
     "text": [
      "C:\\Users\\User\\Anaconda3\\envs\\Messing_With_Columbia_Data\\lib\\site-packages\\IPython\\core\\interactiveshell.py:2714: DtypeWarning: Columns (6,1379,1380,1381,1382,1383,1384,1385,1386,1387,1388,1389,1390,1391,1392,1393,1394,1395,1396,1397,1398,1399,1400,1401,1402,1403,1404,1405,1406,1407,1408,1431,1432,1503,1504,1517,1518,1519,1529,1530,1531,1532,1534,1535,1537,1538,1539,1540,1542,1575,1576,1577,1578,1579,1580,1581,1582,1583,1584,1585,1586,1587,1588,1589,1590,1591,1592,1593,1594,1595,1596,1597,1598,1599,1600,1601,1602,1606,1610,1611,1614,1615,1616,1708,1729,1909,1910,1911,1912,1913) have mixed types. Specify dtype option on import or set low_memory=False.\n",
      "  interactivity=interactivity, compiler=compiler, result=result)\n"
     ]
    }
   ],
   "source": [
    "#Ivy leauge degree popularity 2016-17\n",
    "sc21 = pd.read_csv(\"C:\\Users\\User\\Desktop\\College Scorecard\\CollegeScorecard_Raw_Data\\MERGED2016_17_PP.csv\")\n",
    "ivy_sc21 = sc21[sc21['INSTNM'].str.match('(Yale University)|(Columbia University)|(Harvard University)|(Princeton University)|(University of Pennsylvania)|(Cornell University)|(Brown University)|(Dartmouth)')]"
   ]
  },
  {
   "cell_type": "code",
   "execution_count": 24,
   "metadata": {},
   "outputs": [
    {
     "name": "stderr",
     "output_type": "stream",
     "text": [
      "C:\\Users\\User\\Anaconda3\\envs\\Messing_With_Columbia_Data\\lib\\site-packages\\IPython\\core\\interactiveshell.py:2714: DtypeWarning: Columns (6,9,31,1725,1726,1727,1728,1729,1743,1815,1816,1817,1818,1823,1824,1830,1831,1879,1880,1881,1882,1883,1884,1885,1886,1887,1888,1889,1890,1891,1892,1893,1894,1895,1896,1897,1898,1909,1910,1911,1912,1913,1957,1958,1959,1960,1961,1962,1963,1964,1965,1966,1967,1968,1969,1970,1971,1972,1973,1974,1975,1976) have mixed types. Specify dtype option on import or set low_memory=False.\n",
      "  interactivity=interactivity, compiler=compiler, result=result)\n"
     ]
    }
   ],
   "source": [
    "#Ivy leauge degree popularity 2017-18\n",
    "sc22 = pd.read_csv(\"C:\\Users\\User\\Desktop\\College Scorecard\\CollegeScorecard_Raw_Data\\MERGED2017_18_PP.csv\")\n",
    "ivy_sc22 = sc22[sc22['INSTNM'].str.match('(Yale University)|(Columbia University)|(Harvard University)|(Princeton University)|(University of Pennsylvania)|(Cornell University)|(Brown University)|(Dartmouth)')]"
   ]
  },
  {
   "cell_type": "code",
   "execution_count": 32,
   "metadata": {},
   "outputs": [],
   "source": [
    "PCIP_list = [col for col in sc1.columns if \"PCIP\" in col]\n",
    "PCIP_list.insert(0,'INSTNM')"
   ]
  },
  {
   "cell_type": "code",
   "execution_count": null,
   "metadata": {},
   "outputs": [],
   "source": []
  },
  {
   "cell_type": "code",
   "execution_count": 34,
   "metadata": {},
   "outputs": [
    {
     "ename": "ValueError",
     "evalue": "The column label 'INSTNM' is not unique.",
     "output_type": "error",
     "traceback": [
      "\u001b[1;31m\u001b[0m",
      "\u001b[1;31mValueError\u001b[0mTraceback (most recent call last)",
      "\u001b[1;32m<ipython-input-34-a465fc27bd93>\u001b[0m in \u001b[0;36m<module>\u001b[1;34m()\u001b[0m\n\u001b[0;32m      8\u001b[0m                         \u001b[0mivy_sc16\u001b[0m\u001b[1;33m[\u001b[0m\u001b[0mPCIP\u001b[0m\u001b[1;33m]\u001b[0m\u001b[1;33m,\u001b[0m \u001b[0mivy_sc17\u001b[0m\u001b[1;33m[\u001b[0m\u001b[0mPCIP\u001b[0m\u001b[1;33m]\u001b[0m\u001b[1;33m,\u001b[0m \u001b[0mivy_sc18\u001b[0m\u001b[1;33m[\u001b[0m\u001b[0mPCIP\u001b[0m\u001b[1;33m]\u001b[0m\u001b[1;33m,\u001b[0m \u001b[0mivy_sc19\u001b[0m\u001b[1;33m[\u001b[0m\u001b[0mPCIP\u001b[0m\u001b[1;33m]\u001b[0m\u001b[1;33m,\u001b[0m \u001b[0mivy_sc20\u001b[0m\u001b[1;33m[\u001b[0m\u001b[0mPCIP\u001b[0m\u001b[1;33m]\u001b[0m\u001b[1;33m,\u001b[0m\u001b[1;33m\u001b[0m\u001b[0m\n\u001b[0;32m      9\u001b[0m                         ivy_sc21[PCIP], ivy_sc22[PCIP]]\n\u001b[1;32m---> 10\u001b[1;33m     \u001b[0msc_merged\u001b[0m \u001b[1;33m=\u001b[0m \u001b[0mreduce\u001b[0m\u001b[1;33m(\u001b[0m\u001b[1;32mlambda\u001b[0m  \u001b[0mleft\u001b[0m\u001b[1;33m,\u001b[0m\u001b[0mright\u001b[0m\u001b[1;33m:\u001b[0m \u001b[0mpd\u001b[0m\u001b[1;33m.\u001b[0m\u001b[0mmerge\u001b[0m\u001b[1;33m(\u001b[0m\u001b[0mleft\u001b[0m\u001b[1;33m,\u001b[0m\u001b[0mright\u001b[0m\u001b[1;33m,\u001b[0m\u001b[0mon\u001b[0m\u001b[1;33m=\u001b[0m\u001b[1;33m[\u001b[0m\u001b[1;34m'INSTNM'\u001b[0m\u001b[1;33m]\u001b[0m\u001b[1;33m,\u001b[0m \u001b[0mhow\u001b[0m\u001b[1;33m=\u001b[0m\u001b[1;34m'inner'\u001b[0m\u001b[1;33m)\u001b[0m\u001b[1;33m,\u001b[0m \u001b[0mdata_frames\u001b[0m\u001b[1;33m)\u001b[0m\u001b[1;33m\u001b[0m\u001b[0m\n\u001b[0m\u001b[0;32m     11\u001b[0m     \u001b[0msc_merged_T\u001b[0m \u001b[1;33m=\u001b[0m \u001b[0msc_merged\u001b[0m\u001b[1;33m.\u001b[0m\u001b[0mT\u001b[0m\u001b[1;33m\u001b[0m\u001b[0m\n\u001b[0;32m     12\u001b[0m \u001b[1;33m\u001b[0m\u001b[0m\n",
      "\u001b[1;32m<ipython-input-34-a465fc27bd93>\u001b[0m in \u001b[0;36m<lambda>\u001b[1;34m(left, right)\u001b[0m\n\u001b[0;32m      8\u001b[0m                         \u001b[0mivy_sc16\u001b[0m\u001b[1;33m[\u001b[0m\u001b[0mPCIP\u001b[0m\u001b[1;33m]\u001b[0m\u001b[1;33m,\u001b[0m \u001b[0mivy_sc17\u001b[0m\u001b[1;33m[\u001b[0m\u001b[0mPCIP\u001b[0m\u001b[1;33m]\u001b[0m\u001b[1;33m,\u001b[0m \u001b[0mivy_sc18\u001b[0m\u001b[1;33m[\u001b[0m\u001b[0mPCIP\u001b[0m\u001b[1;33m]\u001b[0m\u001b[1;33m,\u001b[0m \u001b[0mivy_sc19\u001b[0m\u001b[1;33m[\u001b[0m\u001b[0mPCIP\u001b[0m\u001b[1;33m]\u001b[0m\u001b[1;33m,\u001b[0m \u001b[0mivy_sc20\u001b[0m\u001b[1;33m[\u001b[0m\u001b[0mPCIP\u001b[0m\u001b[1;33m]\u001b[0m\u001b[1;33m,\u001b[0m\u001b[1;33m\u001b[0m\u001b[0m\n\u001b[0;32m      9\u001b[0m                         ivy_sc21[PCIP], ivy_sc22[PCIP]]\n\u001b[1;32m---> 10\u001b[1;33m     \u001b[0msc_merged\u001b[0m \u001b[1;33m=\u001b[0m \u001b[0mreduce\u001b[0m\u001b[1;33m(\u001b[0m\u001b[1;32mlambda\u001b[0m  \u001b[0mleft\u001b[0m\u001b[1;33m,\u001b[0m\u001b[0mright\u001b[0m\u001b[1;33m:\u001b[0m \u001b[0mpd\u001b[0m\u001b[1;33m.\u001b[0m\u001b[0mmerge\u001b[0m\u001b[1;33m(\u001b[0m\u001b[0mleft\u001b[0m\u001b[1;33m,\u001b[0m\u001b[0mright\u001b[0m\u001b[1;33m,\u001b[0m\u001b[0mon\u001b[0m\u001b[1;33m=\u001b[0m\u001b[1;33m[\u001b[0m\u001b[1;34m'INSTNM'\u001b[0m\u001b[1;33m]\u001b[0m\u001b[1;33m,\u001b[0m \u001b[0mhow\u001b[0m\u001b[1;33m=\u001b[0m\u001b[1;34m'inner'\u001b[0m\u001b[1;33m)\u001b[0m\u001b[1;33m,\u001b[0m \u001b[0mdata_frames\u001b[0m\u001b[1;33m)\u001b[0m\u001b[1;33m\u001b[0m\u001b[0m\n\u001b[0m\u001b[0;32m     11\u001b[0m     \u001b[0msc_merged_T\u001b[0m \u001b[1;33m=\u001b[0m \u001b[0msc_merged\u001b[0m\u001b[1;33m.\u001b[0m\u001b[0mT\u001b[0m\u001b[1;33m\u001b[0m\u001b[0m\n\u001b[0;32m     12\u001b[0m \u001b[1;33m\u001b[0m\u001b[0m\n",
      "\u001b[1;32mC:\\Users\\User\\Anaconda3\\envs\\Messing_With_Columbia_Data\\lib\\site-packages\\pandas\\core\\reshape\\merge.pyc\u001b[0m in \u001b[0;36mmerge\u001b[1;34m(left, right, how, on, left_on, right_on, left_index, right_index, sort, suffixes, copy, indicator, validate)\u001b[0m\n\u001b[0;32m     45\u001b[0m                          \u001b[0mright_index\u001b[0m\u001b[1;33m=\u001b[0m\u001b[0mright_index\u001b[0m\u001b[1;33m,\u001b[0m \u001b[0msort\u001b[0m\u001b[1;33m=\u001b[0m\u001b[0msort\u001b[0m\u001b[1;33m,\u001b[0m \u001b[0msuffixes\u001b[0m\u001b[1;33m=\u001b[0m\u001b[0msuffixes\u001b[0m\u001b[1;33m,\u001b[0m\u001b[1;33m\u001b[0m\u001b[0m\n\u001b[0;32m     46\u001b[0m                          \u001b[0mcopy\u001b[0m\u001b[1;33m=\u001b[0m\u001b[0mcopy\u001b[0m\u001b[1;33m,\u001b[0m \u001b[0mindicator\u001b[0m\u001b[1;33m=\u001b[0m\u001b[0mindicator\u001b[0m\u001b[1;33m,\u001b[0m\u001b[1;33m\u001b[0m\u001b[0m\n\u001b[1;32m---> 47\u001b[1;33m                          validate=validate)\n\u001b[0m\u001b[0;32m     48\u001b[0m     \u001b[1;32mreturn\u001b[0m \u001b[0mop\u001b[0m\u001b[1;33m.\u001b[0m\u001b[0mget_result\u001b[0m\u001b[1;33m(\u001b[0m\u001b[1;33m)\u001b[0m\u001b[1;33m\u001b[0m\u001b[0m\n\u001b[0;32m     49\u001b[0m \u001b[1;33m\u001b[0m\u001b[0m\n",
      "\u001b[1;32mC:\\Users\\User\\Anaconda3\\envs\\Messing_With_Columbia_Data\\lib\\site-packages\\pandas\\core\\reshape\\merge.pyc\u001b[0m in \u001b[0;36m__init__\u001b[1;34m(self, left, right, how, on, left_on, right_on, axis, left_index, right_index, sort, suffixes, copy, indicator, validate)\u001b[0m\n\u001b[0;32m    527\u001b[0m         (self.left_join_keys,\n\u001b[0;32m    528\u001b[0m          \u001b[0mself\u001b[0m\u001b[1;33m.\u001b[0m\u001b[0mright_join_keys\u001b[0m\u001b[1;33m,\u001b[0m\u001b[1;33m\u001b[0m\u001b[0m\n\u001b[1;32m--> 529\u001b[1;33m          self.join_names) = self._get_merge_keys()\n\u001b[0m\u001b[0;32m    530\u001b[0m \u001b[1;33m\u001b[0m\u001b[0m\n\u001b[0;32m    531\u001b[0m         \u001b[1;31m# validate the merge keys dtypes. We may need to coerce\u001b[0m\u001b[1;33m\u001b[0m\u001b[1;33m\u001b[0m\u001b[0m\n",
      "\u001b[1;32mC:\\Users\\User\\Anaconda3\\envs\\Messing_With_Columbia_Data\\lib\\site-packages\\pandas\\core\\reshape\\merge.pyc\u001b[0m in \u001b[0;36m_get_merge_keys\u001b[1;34m(self)\u001b[0m\n\u001b[0;32m    831\u001b[0m                         \u001b[1;32mif\u001b[0m \u001b[0mrk\u001b[0m \u001b[1;32mis\u001b[0m \u001b[1;32mnot\u001b[0m \u001b[0mNone\u001b[0m\u001b[1;33m:\u001b[0m\u001b[1;33m\u001b[0m\u001b[0m\n\u001b[0;32m    832\u001b[0m                             right_keys.append(\n\u001b[1;32m--> 833\u001b[1;33m                                 right._get_label_or_level_values(rk))\n\u001b[0m\u001b[0;32m    834\u001b[0m                         \u001b[1;32melse\u001b[0m\u001b[1;33m:\u001b[0m\u001b[1;33m\u001b[0m\u001b[0m\n\u001b[0;32m    835\u001b[0m                             \u001b[1;31m# work-around for merge_asof(right_index=True)\u001b[0m\u001b[1;33m\u001b[0m\u001b[1;33m\u001b[0m\u001b[0m\n",
      "\u001b[1;32mC:\\Users\\User\\Anaconda3\\envs\\Messing_With_Columbia_Data\\lib\\site-packages\\pandas\\core\\generic.pyc\u001b[0m in \u001b[0;36m_get_label_or_level_values\u001b[1;34m(self, key, axis)\u001b[0m\n\u001b[0;32m   1723\u001b[0m                              .format(key=key,\n\u001b[0;32m   1724\u001b[0m                                      \u001b[0mlabel_axis_name\u001b[0m\u001b[1;33m=\u001b[0m\u001b[0mlabel_axis_name\u001b[0m\u001b[1;33m,\u001b[0m\u001b[1;33m\u001b[0m\u001b[0m\n\u001b[1;32m-> 1725\u001b[1;33m                                      multi_message=multi_message))\n\u001b[0m\u001b[0;32m   1726\u001b[0m \u001b[1;33m\u001b[0m\u001b[0m\n\u001b[0;32m   1727\u001b[0m         \u001b[1;32mreturn\u001b[0m \u001b[0mvalues\u001b[0m\u001b[1;33m\u001b[0m\u001b[0m\n",
      "\u001b[1;31mValueError\u001b[0m: The column label 'INSTNM' is not unique."
     ]
    }
   ],
   "source": [
    "almost_there = []\n",
    "\n",
    "for n in PCIP_list:\n",
    "    PCIP = [PCIP_list[0], n]\n",
    "    data_frames = [ivy_sc1[PCIP], ivy_sc2[PCIP], ivy_sc3[PCIP], ivy_sc4[PCIP], ivy_sc5[PCIP], \n",
    "                        ivy_sc6[PCIP], ivy_sc7[PCIP], ivy_sc8[PCIP], ivy_sc9[PCIP], ivy_sc10[PCIP], \n",
    "                        ivy_sc11[PCIP], ivy_sc12[PCIP], ivy_sc13[PCIP], ivy_sc14[PCIP], ivy_sc15[PCIP], \n",
    "                        ivy_sc16[PCIP], ivy_sc17[PCIP], ivy_sc18[PCIP], ivy_sc19[PCIP], ivy_sc20[PCIP], \n",
    "                        ivy_sc21[PCIP], ivy_sc22[PCIP]]\n",
    "    sc_merged = reduce(lambda  left,right: pd.merge(left,right,on=['INSTNM'], how='inner'), data_frames)\n",
    "    sc_merged_T = sc_merged.T\n",
    "\n",
    "    sc_merged_T.columns = sc_merged_T.iloc[0]\n",
    "\n",
    "        #marks the latter of the two years (Spring Graduation)\n",
    "    Year = ['year','1997', '1998', '1999', '2000', '2001', '2002', '2003', '2004', '2005', '2006', '2007', '2008', \n",
    "                '2009', '2010', '2011', '2012', '2013', '2014', '2015', '2016', '2017', '2018']\n",
    "    sc_merged_T['year'] = Year\n",
    "            \n",
    "    #sc_merged_T = sc_merged_T.drop('INSTNM', axis=0)\n",
    "    sc_merged_T = sc_merged_T.set_index('year')\n",
    "            \n",
    "    sc_merged_T = sc_merged_T.infer_objects()\n",
    "            \n",
    "    almost_there.append(sc_merged_T)"
   ]
  },
  {
   "cell_type": "code",
   "execution_count": 31,
   "metadata": {},
   "outputs": [
    {
     "ename": "ValueError",
     "evalue": "The column label 'INSTNM' is not unique.",
     "output_type": "error",
     "traceback": [
      "\u001b[1;31m\u001b[0m",
      "\u001b[1;31mValueError\u001b[0mTraceback (most recent call last)",
      "\u001b[1;32m<ipython-input-31-b19009c75ad5>\u001b[0m in \u001b[0;36m<module>\u001b[1;34m()\u001b[0m\n\u001b[1;32m----> 1\u001b[1;33m \u001b[0mfinal_list\u001b[0m \u001b[1;33m=\u001b[0m \u001b[0mgen_chart\u001b[0m\u001b[1;33m(\u001b[0m\u001b[0mPCIP_list\u001b[0m\u001b[1;33m)\u001b[0m\u001b[1;33m\u001b[0m\u001b[0m\n\u001b[0m",
      "\u001b[1;32m<ipython-input-27-c17012e3f3cc>\u001b[0m in \u001b[0;36mgen_chart\u001b[1;34m(PCIP_list)\u001b[0m\n\u001b[0;32m      8\u001b[0m                         \u001b[0mivy_sc16\u001b[0m\u001b[1;33m[\u001b[0m\u001b[0mPCIP\u001b[0m\u001b[1;33m]\u001b[0m\u001b[1;33m,\u001b[0m \u001b[0mivy_sc17\u001b[0m\u001b[1;33m[\u001b[0m\u001b[0mPCIP\u001b[0m\u001b[1;33m]\u001b[0m\u001b[1;33m,\u001b[0m \u001b[0mivy_sc18\u001b[0m\u001b[1;33m[\u001b[0m\u001b[0mPCIP\u001b[0m\u001b[1;33m]\u001b[0m\u001b[1;33m,\u001b[0m \u001b[0mivy_sc19\u001b[0m\u001b[1;33m[\u001b[0m\u001b[0mPCIP\u001b[0m\u001b[1;33m]\u001b[0m\u001b[1;33m,\u001b[0m \u001b[0mivy_sc20\u001b[0m\u001b[1;33m[\u001b[0m\u001b[0mPCIP\u001b[0m\u001b[1;33m]\u001b[0m\u001b[1;33m,\u001b[0m\u001b[1;33m\u001b[0m\u001b[0m\n\u001b[0;32m      9\u001b[0m                         ivy_sc21[PCIP], ivy_sc22[PCIP]]\n\u001b[1;32m---> 10\u001b[1;33m             \u001b[0msc_merged\u001b[0m \u001b[1;33m=\u001b[0m \u001b[0mreduce\u001b[0m\u001b[1;33m(\u001b[0m\u001b[1;32mlambda\u001b[0m  \u001b[0mleft\u001b[0m\u001b[1;33m,\u001b[0m\u001b[0mright\u001b[0m\u001b[1;33m:\u001b[0m \u001b[0mpd\u001b[0m\u001b[1;33m.\u001b[0m\u001b[0mmerge\u001b[0m\u001b[1;33m(\u001b[0m\u001b[0mleft\u001b[0m\u001b[1;33m,\u001b[0m\u001b[0mright\u001b[0m\u001b[1;33m,\u001b[0m\u001b[0mon\u001b[0m\u001b[1;33m=\u001b[0m\u001b[1;33m[\u001b[0m\u001b[1;34m'INSTNM'\u001b[0m\u001b[1;33m]\u001b[0m\u001b[1;33m,\u001b[0m \u001b[0mhow\u001b[0m\u001b[1;33m=\u001b[0m\u001b[1;34m'inner'\u001b[0m\u001b[1;33m)\u001b[0m\u001b[1;33m,\u001b[0m \u001b[0mdata_frames\u001b[0m\u001b[1;33m)\u001b[0m\u001b[1;33m\u001b[0m\u001b[0m\n\u001b[0m\u001b[0;32m     11\u001b[0m             \u001b[0msc_merged_T\u001b[0m \u001b[1;33m=\u001b[0m \u001b[0msc_merged\u001b[0m\u001b[1;33m.\u001b[0m\u001b[0mT\u001b[0m\u001b[1;33m\u001b[0m\u001b[0m\n\u001b[0;32m     12\u001b[0m \u001b[1;33m\u001b[0m\u001b[0m\n",
      "\u001b[1;32m<ipython-input-27-c17012e3f3cc>\u001b[0m in \u001b[0;36m<lambda>\u001b[1;34m(left, right)\u001b[0m\n\u001b[0;32m      8\u001b[0m                         \u001b[0mivy_sc16\u001b[0m\u001b[1;33m[\u001b[0m\u001b[0mPCIP\u001b[0m\u001b[1;33m]\u001b[0m\u001b[1;33m,\u001b[0m \u001b[0mivy_sc17\u001b[0m\u001b[1;33m[\u001b[0m\u001b[0mPCIP\u001b[0m\u001b[1;33m]\u001b[0m\u001b[1;33m,\u001b[0m \u001b[0mivy_sc18\u001b[0m\u001b[1;33m[\u001b[0m\u001b[0mPCIP\u001b[0m\u001b[1;33m]\u001b[0m\u001b[1;33m,\u001b[0m \u001b[0mivy_sc19\u001b[0m\u001b[1;33m[\u001b[0m\u001b[0mPCIP\u001b[0m\u001b[1;33m]\u001b[0m\u001b[1;33m,\u001b[0m \u001b[0mivy_sc20\u001b[0m\u001b[1;33m[\u001b[0m\u001b[0mPCIP\u001b[0m\u001b[1;33m]\u001b[0m\u001b[1;33m,\u001b[0m\u001b[1;33m\u001b[0m\u001b[0m\n\u001b[0;32m      9\u001b[0m                         ivy_sc21[PCIP], ivy_sc22[PCIP]]\n\u001b[1;32m---> 10\u001b[1;33m             \u001b[0msc_merged\u001b[0m \u001b[1;33m=\u001b[0m \u001b[0mreduce\u001b[0m\u001b[1;33m(\u001b[0m\u001b[1;32mlambda\u001b[0m  \u001b[0mleft\u001b[0m\u001b[1;33m,\u001b[0m\u001b[0mright\u001b[0m\u001b[1;33m:\u001b[0m \u001b[0mpd\u001b[0m\u001b[1;33m.\u001b[0m\u001b[0mmerge\u001b[0m\u001b[1;33m(\u001b[0m\u001b[0mleft\u001b[0m\u001b[1;33m,\u001b[0m\u001b[0mright\u001b[0m\u001b[1;33m,\u001b[0m\u001b[0mon\u001b[0m\u001b[1;33m=\u001b[0m\u001b[1;33m[\u001b[0m\u001b[1;34m'INSTNM'\u001b[0m\u001b[1;33m]\u001b[0m\u001b[1;33m,\u001b[0m \u001b[0mhow\u001b[0m\u001b[1;33m=\u001b[0m\u001b[1;34m'inner'\u001b[0m\u001b[1;33m)\u001b[0m\u001b[1;33m,\u001b[0m \u001b[0mdata_frames\u001b[0m\u001b[1;33m)\u001b[0m\u001b[1;33m\u001b[0m\u001b[0m\n\u001b[0m\u001b[0;32m     11\u001b[0m             \u001b[0msc_merged_T\u001b[0m \u001b[1;33m=\u001b[0m \u001b[0msc_merged\u001b[0m\u001b[1;33m.\u001b[0m\u001b[0mT\u001b[0m\u001b[1;33m\u001b[0m\u001b[0m\n\u001b[0;32m     12\u001b[0m \u001b[1;33m\u001b[0m\u001b[0m\n",
      "\u001b[1;32mC:\\Users\\User\\Anaconda3\\envs\\Messing_With_Columbia_Data\\lib\\site-packages\\pandas\\core\\reshape\\merge.pyc\u001b[0m in \u001b[0;36mmerge\u001b[1;34m(left, right, how, on, left_on, right_on, left_index, right_index, sort, suffixes, copy, indicator, validate)\u001b[0m\n\u001b[0;32m     45\u001b[0m                          \u001b[0mright_index\u001b[0m\u001b[1;33m=\u001b[0m\u001b[0mright_index\u001b[0m\u001b[1;33m,\u001b[0m \u001b[0msort\u001b[0m\u001b[1;33m=\u001b[0m\u001b[0msort\u001b[0m\u001b[1;33m,\u001b[0m \u001b[0msuffixes\u001b[0m\u001b[1;33m=\u001b[0m\u001b[0msuffixes\u001b[0m\u001b[1;33m,\u001b[0m\u001b[1;33m\u001b[0m\u001b[0m\n\u001b[0;32m     46\u001b[0m                          \u001b[0mcopy\u001b[0m\u001b[1;33m=\u001b[0m\u001b[0mcopy\u001b[0m\u001b[1;33m,\u001b[0m \u001b[0mindicator\u001b[0m\u001b[1;33m=\u001b[0m\u001b[0mindicator\u001b[0m\u001b[1;33m,\u001b[0m\u001b[1;33m\u001b[0m\u001b[0m\n\u001b[1;32m---> 47\u001b[1;33m                          validate=validate)\n\u001b[0m\u001b[0;32m     48\u001b[0m     \u001b[1;32mreturn\u001b[0m \u001b[0mop\u001b[0m\u001b[1;33m.\u001b[0m\u001b[0mget_result\u001b[0m\u001b[1;33m(\u001b[0m\u001b[1;33m)\u001b[0m\u001b[1;33m\u001b[0m\u001b[0m\n\u001b[0;32m     49\u001b[0m \u001b[1;33m\u001b[0m\u001b[0m\n",
      "\u001b[1;32mC:\\Users\\User\\Anaconda3\\envs\\Messing_With_Columbia_Data\\lib\\site-packages\\pandas\\core\\reshape\\merge.pyc\u001b[0m in \u001b[0;36m__init__\u001b[1;34m(self, left, right, how, on, left_on, right_on, axis, left_index, right_index, sort, suffixes, copy, indicator, validate)\u001b[0m\n\u001b[0;32m    527\u001b[0m         (self.left_join_keys,\n\u001b[0;32m    528\u001b[0m          \u001b[0mself\u001b[0m\u001b[1;33m.\u001b[0m\u001b[0mright_join_keys\u001b[0m\u001b[1;33m,\u001b[0m\u001b[1;33m\u001b[0m\u001b[0m\n\u001b[1;32m--> 529\u001b[1;33m          self.join_names) = self._get_merge_keys()\n\u001b[0m\u001b[0;32m    530\u001b[0m \u001b[1;33m\u001b[0m\u001b[0m\n\u001b[0;32m    531\u001b[0m         \u001b[1;31m# validate the merge keys dtypes. We may need to coerce\u001b[0m\u001b[1;33m\u001b[0m\u001b[1;33m\u001b[0m\u001b[0m\n",
      "\u001b[1;32mC:\\Users\\User\\Anaconda3\\envs\\Messing_With_Columbia_Data\\lib\\site-packages\\pandas\\core\\reshape\\merge.pyc\u001b[0m in \u001b[0;36m_get_merge_keys\u001b[1;34m(self)\u001b[0m\n\u001b[0;32m    831\u001b[0m                         \u001b[1;32mif\u001b[0m \u001b[0mrk\u001b[0m \u001b[1;32mis\u001b[0m \u001b[1;32mnot\u001b[0m \u001b[0mNone\u001b[0m\u001b[1;33m:\u001b[0m\u001b[1;33m\u001b[0m\u001b[0m\n\u001b[0;32m    832\u001b[0m                             right_keys.append(\n\u001b[1;32m--> 833\u001b[1;33m                                 right._get_label_or_level_values(rk))\n\u001b[0m\u001b[0;32m    834\u001b[0m                         \u001b[1;32melse\u001b[0m\u001b[1;33m:\u001b[0m\u001b[1;33m\u001b[0m\u001b[0m\n\u001b[0;32m    835\u001b[0m                             \u001b[1;31m# work-around for merge_asof(right_index=True)\u001b[0m\u001b[1;33m\u001b[0m\u001b[1;33m\u001b[0m\u001b[0m\n",
      "\u001b[1;32mC:\\Users\\User\\Anaconda3\\envs\\Messing_With_Columbia_Data\\lib\\site-packages\\pandas\\core\\generic.pyc\u001b[0m in \u001b[0;36m_get_label_or_level_values\u001b[1;34m(self, key, axis)\u001b[0m\n\u001b[0;32m   1723\u001b[0m                              .format(key=key,\n\u001b[0;32m   1724\u001b[0m                                      \u001b[0mlabel_axis_name\u001b[0m\u001b[1;33m=\u001b[0m\u001b[0mlabel_axis_name\u001b[0m\u001b[1;33m,\u001b[0m\u001b[1;33m\u001b[0m\u001b[0m\n\u001b[1;32m-> 1725\u001b[1;33m                                      multi_message=multi_message))\n\u001b[0m\u001b[0;32m   1726\u001b[0m \u001b[1;33m\u001b[0m\u001b[0m\n\u001b[0;32m   1727\u001b[0m         \u001b[1;32mreturn\u001b[0m \u001b[0mvalues\u001b[0m\u001b[1;33m\u001b[0m\u001b[0m\n",
      "\u001b[1;31mValueError\u001b[0m: The column label 'INSTNM' is not unique."
     ]
    }
   ],
   "source": [
    "final_list = gen_chart(PCIP_list)"
   ]
  },
  {
   "cell_type": "code",
   "execution_count": 30,
   "metadata": {
    "scrolled": true
   },
   "outputs": [
    {
     "ename": "ValueError",
     "evalue": "The column label 'INSTNM' is not unique.",
     "output_type": "error",
     "traceback": [
      "\u001b[1;31m\u001b[0m",
      "\u001b[1;31mValueError\u001b[0mTraceback (most recent call last)",
      "\u001b[1;32m<ipython-input-30-732f5eaf4337>\u001b[0m in \u001b[0;36m<module>\u001b[1;34m()\u001b[0m\n\u001b[1;32m----> 1\u001b[1;33m \u001b[0mfinal_list\u001b[0m \u001b[1;33m=\u001b[0m \u001b[0mgen_chart\u001b[0m\u001b[1;33m(\u001b[0m\u001b[0mPCIP_list\u001b[0m\u001b[1;33m)\u001b[0m\u001b[1;33m\u001b[0m\u001b[0m\n\u001b[0m\u001b[0;32m      2\u001b[0m \u001b[1;33m\u001b[0m\u001b[0m\n\u001b[0;32m      3\u001b[0m \u001b[0max\u001b[0m \u001b[1;33m=\u001b[0m \u001b[0malmost_there\u001b[0m\u001b[1;33m[\u001b[0m\u001b[1;36m12\u001b[0m\u001b[1;33m]\u001b[0m\u001b[1;33m.\u001b[0m\u001b[0mplot\u001b[0m\u001b[1;33m.\u001b[0m\u001b[0mline\u001b[0m\u001b[1;33m(\u001b[0m\u001b[1;33m)\u001b[0m\u001b[1;33m\u001b[0m\u001b[0m\n\u001b[0;32m      4\u001b[0m \u001b[0mleg\u001b[0m \u001b[1;33m=\u001b[0m \u001b[0mplt\u001b[0m\u001b[1;33m.\u001b[0m\u001b[0mlegend\u001b[0m\u001b[1;33m(\u001b[0m \u001b[0mloc\u001b[0m \u001b[1;33m=\u001b[0m \u001b[1;34m'upper right'\u001b[0m\u001b[1;33m)\u001b[0m\u001b[1;33m\u001b[0m\u001b[0m\n\u001b[0;32m      5\u001b[0m \u001b[1;33m\u001b[0m\u001b[0m\n",
      "\u001b[1;32m<ipython-input-27-c17012e3f3cc>\u001b[0m in \u001b[0;36mgen_chart\u001b[1;34m(PCIP_list)\u001b[0m\n\u001b[0;32m      8\u001b[0m                         \u001b[0mivy_sc16\u001b[0m\u001b[1;33m[\u001b[0m\u001b[0mPCIP\u001b[0m\u001b[1;33m]\u001b[0m\u001b[1;33m,\u001b[0m \u001b[0mivy_sc17\u001b[0m\u001b[1;33m[\u001b[0m\u001b[0mPCIP\u001b[0m\u001b[1;33m]\u001b[0m\u001b[1;33m,\u001b[0m \u001b[0mivy_sc18\u001b[0m\u001b[1;33m[\u001b[0m\u001b[0mPCIP\u001b[0m\u001b[1;33m]\u001b[0m\u001b[1;33m,\u001b[0m \u001b[0mivy_sc19\u001b[0m\u001b[1;33m[\u001b[0m\u001b[0mPCIP\u001b[0m\u001b[1;33m]\u001b[0m\u001b[1;33m,\u001b[0m \u001b[0mivy_sc20\u001b[0m\u001b[1;33m[\u001b[0m\u001b[0mPCIP\u001b[0m\u001b[1;33m]\u001b[0m\u001b[1;33m,\u001b[0m\u001b[1;33m\u001b[0m\u001b[0m\n\u001b[0;32m      9\u001b[0m                         ivy_sc21[PCIP], ivy_sc22[PCIP]]\n\u001b[1;32m---> 10\u001b[1;33m             \u001b[0msc_merged\u001b[0m \u001b[1;33m=\u001b[0m \u001b[0mreduce\u001b[0m\u001b[1;33m(\u001b[0m\u001b[1;32mlambda\u001b[0m  \u001b[0mleft\u001b[0m\u001b[1;33m,\u001b[0m\u001b[0mright\u001b[0m\u001b[1;33m:\u001b[0m \u001b[0mpd\u001b[0m\u001b[1;33m.\u001b[0m\u001b[0mmerge\u001b[0m\u001b[1;33m(\u001b[0m\u001b[0mleft\u001b[0m\u001b[1;33m,\u001b[0m\u001b[0mright\u001b[0m\u001b[1;33m,\u001b[0m\u001b[0mon\u001b[0m\u001b[1;33m=\u001b[0m\u001b[1;33m[\u001b[0m\u001b[1;34m'INSTNM'\u001b[0m\u001b[1;33m]\u001b[0m\u001b[1;33m,\u001b[0m \u001b[0mhow\u001b[0m\u001b[1;33m=\u001b[0m\u001b[1;34m'inner'\u001b[0m\u001b[1;33m)\u001b[0m\u001b[1;33m,\u001b[0m \u001b[0mdata_frames\u001b[0m\u001b[1;33m)\u001b[0m\u001b[1;33m\u001b[0m\u001b[0m\n\u001b[0m\u001b[0;32m     11\u001b[0m             \u001b[0msc_merged_T\u001b[0m \u001b[1;33m=\u001b[0m \u001b[0msc_merged\u001b[0m\u001b[1;33m.\u001b[0m\u001b[0mT\u001b[0m\u001b[1;33m\u001b[0m\u001b[0m\n\u001b[0;32m     12\u001b[0m \u001b[1;33m\u001b[0m\u001b[0m\n",
      "\u001b[1;32m<ipython-input-27-c17012e3f3cc>\u001b[0m in \u001b[0;36m<lambda>\u001b[1;34m(left, right)\u001b[0m\n\u001b[0;32m      8\u001b[0m                         \u001b[0mivy_sc16\u001b[0m\u001b[1;33m[\u001b[0m\u001b[0mPCIP\u001b[0m\u001b[1;33m]\u001b[0m\u001b[1;33m,\u001b[0m \u001b[0mivy_sc17\u001b[0m\u001b[1;33m[\u001b[0m\u001b[0mPCIP\u001b[0m\u001b[1;33m]\u001b[0m\u001b[1;33m,\u001b[0m \u001b[0mivy_sc18\u001b[0m\u001b[1;33m[\u001b[0m\u001b[0mPCIP\u001b[0m\u001b[1;33m]\u001b[0m\u001b[1;33m,\u001b[0m \u001b[0mivy_sc19\u001b[0m\u001b[1;33m[\u001b[0m\u001b[0mPCIP\u001b[0m\u001b[1;33m]\u001b[0m\u001b[1;33m,\u001b[0m \u001b[0mivy_sc20\u001b[0m\u001b[1;33m[\u001b[0m\u001b[0mPCIP\u001b[0m\u001b[1;33m]\u001b[0m\u001b[1;33m,\u001b[0m\u001b[1;33m\u001b[0m\u001b[0m\n\u001b[0;32m      9\u001b[0m                         ivy_sc21[PCIP], ivy_sc22[PCIP]]\n\u001b[1;32m---> 10\u001b[1;33m             \u001b[0msc_merged\u001b[0m \u001b[1;33m=\u001b[0m \u001b[0mreduce\u001b[0m\u001b[1;33m(\u001b[0m\u001b[1;32mlambda\u001b[0m  \u001b[0mleft\u001b[0m\u001b[1;33m,\u001b[0m\u001b[0mright\u001b[0m\u001b[1;33m:\u001b[0m \u001b[0mpd\u001b[0m\u001b[1;33m.\u001b[0m\u001b[0mmerge\u001b[0m\u001b[1;33m(\u001b[0m\u001b[0mleft\u001b[0m\u001b[1;33m,\u001b[0m\u001b[0mright\u001b[0m\u001b[1;33m,\u001b[0m\u001b[0mon\u001b[0m\u001b[1;33m=\u001b[0m\u001b[1;33m[\u001b[0m\u001b[1;34m'INSTNM'\u001b[0m\u001b[1;33m]\u001b[0m\u001b[1;33m,\u001b[0m \u001b[0mhow\u001b[0m\u001b[1;33m=\u001b[0m\u001b[1;34m'inner'\u001b[0m\u001b[1;33m)\u001b[0m\u001b[1;33m,\u001b[0m \u001b[0mdata_frames\u001b[0m\u001b[1;33m)\u001b[0m\u001b[1;33m\u001b[0m\u001b[0m\n\u001b[0m\u001b[0;32m     11\u001b[0m             \u001b[0msc_merged_T\u001b[0m \u001b[1;33m=\u001b[0m \u001b[0msc_merged\u001b[0m\u001b[1;33m.\u001b[0m\u001b[0mT\u001b[0m\u001b[1;33m\u001b[0m\u001b[0m\n\u001b[0;32m     12\u001b[0m \u001b[1;33m\u001b[0m\u001b[0m\n",
      "\u001b[1;32mC:\\Users\\User\\Anaconda3\\envs\\Messing_With_Columbia_Data\\lib\\site-packages\\pandas\\core\\reshape\\merge.pyc\u001b[0m in \u001b[0;36mmerge\u001b[1;34m(left, right, how, on, left_on, right_on, left_index, right_index, sort, suffixes, copy, indicator, validate)\u001b[0m\n\u001b[0;32m     45\u001b[0m                          \u001b[0mright_index\u001b[0m\u001b[1;33m=\u001b[0m\u001b[0mright_index\u001b[0m\u001b[1;33m,\u001b[0m \u001b[0msort\u001b[0m\u001b[1;33m=\u001b[0m\u001b[0msort\u001b[0m\u001b[1;33m,\u001b[0m \u001b[0msuffixes\u001b[0m\u001b[1;33m=\u001b[0m\u001b[0msuffixes\u001b[0m\u001b[1;33m,\u001b[0m\u001b[1;33m\u001b[0m\u001b[0m\n\u001b[0;32m     46\u001b[0m                          \u001b[0mcopy\u001b[0m\u001b[1;33m=\u001b[0m\u001b[0mcopy\u001b[0m\u001b[1;33m,\u001b[0m \u001b[0mindicator\u001b[0m\u001b[1;33m=\u001b[0m\u001b[0mindicator\u001b[0m\u001b[1;33m,\u001b[0m\u001b[1;33m\u001b[0m\u001b[0m\n\u001b[1;32m---> 47\u001b[1;33m                          validate=validate)\n\u001b[0m\u001b[0;32m     48\u001b[0m     \u001b[1;32mreturn\u001b[0m \u001b[0mop\u001b[0m\u001b[1;33m.\u001b[0m\u001b[0mget_result\u001b[0m\u001b[1;33m(\u001b[0m\u001b[1;33m)\u001b[0m\u001b[1;33m\u001b[0m\u001b[0m\n\u001b[0;32m     49\u001b[0m \u001b[1;33m\u001b[0m\u001b[0m\n",
      "\u001b[1;32mC:\\Users\\User\\Anaconda3\\envs\\Messing_With_Columbia_Data\\lib\\site-packages\\pandas\\core\\reshape\\merge.pyc\u001b[0m in \u001b[0;36m__init__\u001b[1;34m(self, left, right, how, on, left_on, right_on, axis, left_index, right_index, sort, suffixes, copy, indicator, validate)\u001b[0m\n\u001b[0;32m    527\u001b[0m         (self.left_join_keys,\n\u001b[0;32m    528\u001b[0m          \u001b[0mself\u001b[0m\u001b[1;33m.\u001b[0m\u001b[0mright_join_keys\u001b[0m\u001b[1;33m,\u001b[0m\u001b[1;33m\u001b[0m\u001b[0m\n\u001b[1;32m--> 529\u001b[1;33m          self.join_names) = self._get_merge_keys()\n\u001b[0m\u001b[0;32m    530\u001b[0m \u001b[1;33m\u001b[0m\u001b[0m\n\u001b[0;32m    531\u001b[0m         \u001b[1;31m# validate the merge keys dtypes. We may need to coerce\u001b[0m\u001b[1;33m\u001b[0m\u001b[1;33m\u001b[0m\u001b[0m\n",
      "\u001b[1;32mC:\\Users\\User\\Anaconda3\\envs\\Messing_With_Columbia_Data\\lib\\site-packages\\pandas\\core\\reshape\\merge.pyc\u001b[0m in \u001b[0;36m_get_merge_keys\u001b[1;34m(self)\u001b[0m\n\u001b[0;32m    831\u001b[0m                         \u001b[1;32mif\u001b[0m \u001b[0mrk\u001b[0m \u001b[1;32mis\u001b[0m \u001b[1;32mnot\u001b[0m \u001b[0mNone\u001b[0m\u001b[1;33m:\u001b[0m\u001b[1;33m\u001b[0m\u001b[0m\n\u001b[0;32m    832\u001b[0m                             right_keys.append(\n\u001b[1;32m--> 833\u001b[1;33m                                 right._get_label_or_level_values(rk))\n\u001b[0m\u001b[0;32m    834\u001b[0m                         \u001b[1;32melse\u001b[0m\u001b[1;33m:\u001b[0m\u001b[1;33m\u001b[0m\u001b[0m\n\u001b[0;32m    835\u001b[0m                             \u001b[1;31m# work-around for merge_asof(right_index=True)\u001b[0m\u001b[1;33m\u001b[0m\u001b[1;33m\u001b[0m\u001b[0m\n",
      "\u001b[1;32mC:\\Users\\User\\Anaconda3\\envs\\Messing_With_Columbia_Data\\lib\\site-packages\\pandas\\core\\generic.pyc\u001b[0m in \u001b[0;36m_get_label_or_level_values\u001b[1;34m(self, key, axis)\u001b[0m\n\u001b[0;32m   1723\u001b[0m                              .format(key=key,\n\u001b[0;32m   1724\u001b[0m                                      \u001b[0mlabel_axis_name\u001b[0m\u001b[1;33m=\u001b[0m\u001b[0mlabel_axis_name\u001b[0m\u001b[1;33m,\u001b[0m\u001b[1;33m\u001b[0m\u001b[0m\n\u001b[1;32m-> 1725\u001b[1;33m                                      multi_message=multi_message))\n\u001b[0m\u001b[0;32m   1726\u001b[0m \u001b[1;33m\u001b[0m\u001b[0m\n\u001b[0;32m   1727\u001b[0m         \u001b[1;32mreturn\u001b[0m \u001b[0mvalues\u001b[0m\u001b[1;33m\u001b[0m\u001b[0m\n",
      "\u001b[1;31mValueError\u001b[0m: The column label 'INSTNM' is not unique."
     ]
    }
   ],
   "source": [
    "final_list = gen_chart(PCIP_list)\n",
    "\n",
    "ax = almost_there[12].plot.line()\n",
    "leg = plt.legend( loc = 'upper right')\n",
    "\n",
    "# Get the bounding box of the original legend\n",
    "bb = leg.get_bbox_to_anchor().inverse_transformed(ax.transAxes)\n",
    "\n",
    "# Change to location of the legend. \n",
    "xOffset = .8\n",
    "bb.x0 += xOffset\n",
    "bb.x1 += xOffset\n",
    "leg.set_bbox_to_anchor(bb, transform = ax.transAxes)"
   ]
  },
  {
   "cell_type": "code",
   "execution_count": null,
   "metadata": {},
   "outputs": [],
   "source": []
  }
 ],
 "metadata": {
  "kernelspec": {
   "display_name": "Python 2",
   "language": "python",
   "name": "python2"
  },
  "language_info": {
   "codemirror_mode": {
    "name": "ipython",
    "version": 2
   },
   "file_extension": ".py",
   "mimetype": "text/x-python",
   "name": "python",
   "nbconvert_exporter": "python",
   "pygments_lexer": "ipython2",
   "version": "2.7.16"
  }
 },
 "nbformat": 4,
 "nbformat_minor": 2
}
